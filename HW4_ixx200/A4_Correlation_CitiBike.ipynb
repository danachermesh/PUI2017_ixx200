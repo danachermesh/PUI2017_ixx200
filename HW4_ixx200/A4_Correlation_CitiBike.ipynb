{
 "cells": [
  {
   "cell_type": "markdown",
   "metadata": {},
   "source": [
    "## Overview\n",
    "\n",
    "This script applies different correlation tests on CitiBike data. These tests include:\n",
    "- **Pearson**: this measures the linear relationship between two samples; it assumes normal distribution in the samples (parametric)\n",
    "- **Spearman**: this measures monotonicity of two samples; it does not assume normal distributions in the samples (nonparametric)\n",
    "- **K-S test**: this tests whether two samples are drawn from the same distribution; the distribution assumed to be continuous\n",
    "\n",
    "The intention is to demonstrate the use of statistical tests under different questions and data type\n",
    "<br\\>\n",
    "<img src = \"https://i.pinimg.com/originals/da/c9/60/dac96086a651aea01b0ef24da4faaa9f.jpg\", width = 700, height = 500, align = left>"
   ]
  },
  {
   "cell_type": "code",
   "execution_count": 2,
   "metadata": {},
   "outputs": [
    {
     "name": "stdout",
     "output_type": "stream",
     "text": [
      "Populating the interactive namespace from numpy and matplotlib\n"
     ]
    },
    {
     "name": "stderr",
     "output_type": "stream",
     "text": [
      "/Users/Ian/anaconda/lib/python2.7/site-packages/IPython/core/magics/pylab.py:161: UserWarning: pylab import has clobbered these variables: ['plt']\n",
      "`%matplotlib` prevents importing * from pylab and numpy\n",
      "  \"\\n`%matplotlib` prevents importing * from pylab and numpy\"\n"
     ]
    }
   ],
   "source": [
    "import pandas as pd\n",
    "import numpy as np\n",
    "import matplotlib.pylab as plt\n",
    "import matplotlib.style as style\n",
    "import scipy.stats as stats\n",
    "\n",
    "style.use(\"fivethirtyeight\")\n",
    "%pylab inline"
   ]
  },
  {
   "cell_type": "code",
   "execution_count": 3,
   "metadata": {
    "collapsed": true
   },
   "outputs": [],
   "source": [
    "path = \"https://s3.amazonaws.com/tripdata/JC-201707-citibike-tripdata.csv.zip\"\n",
    "df = pd.read_csv(path, compression='zip')"
   ]
  },
  {
   "cell_type": "code",
   "execution_count": 4,
   "metadata": {},
   "outputs": [
    {
     "data": {
      "text/html": [
       "<div>\n",
       "<style>\n",
       "    .dataframe thead tr:only-child th {\n",
       "        text-align: right;\n",
       "    }\n",
       "\n",
       "    .dataframe thead th {\n",
       "        text-align: left;\n",
       "    }\n",
       "\n",
       "    .dataframe tbody tr th {\n",
       "        vertical-align: top;\n",
       "    }\n",
       "</style>\n",
       "<table border=\"1\" class=\"dataframe\">\n",
       "  <thead>\n",
       "    <tr style=\"text-align: right;\">\n",
       "      <th></th>\n",
       "      <th>tripduration</th>\n",
       "      <th>starttime</th>\n",
       "      <th>stoptime</th>\n",
       "      <th>start station id</th>\n",
       "      <th>start station name</th>\n",
       "      <th>start station latitude</th>\n",
       "      <th>start station longitude</th>\n",
       "      <th>end station id</th>\n",
       "      <th>end station name</th>\n",
       "      <th>end station latitude</th>\n",
       "      <th>end station longitude</th>\n",
       "      <th>bikeid</th>\n",
       "      <th>usertype</th>\n",
       "      <th>birth year</th>\n",
       "      <th>gender</th>\n",
       "    </tr>\n",
       "  </thead>\n",
       "  <tbody>\n",
       "    <tr>\n",
       "      <th>1632</th>\n",
       "      <td>84</td>\n",
       "      <td>2017-07-03 09:16:21</td>\n",
       "      <td>2017-07-03 09:17:46</td>\n",
       "      <td>3275</td>\n",
       "      <td>Columbus Drive</td>\n",
       "      <td>40.718355</td>\n",
       "      <td>-74.038914</td>\n",
       "      <td>3187</td>\n",
       "      <td>Warren St</td>\n",
       "      <td>40.721124</td>\n",
       "      <td>-74.038051</td>\n",
       "      <td>26237</td>\n",
       "      <td>Subscriber</td>\n",
       "      <td>1966.0</td>\n",
       "      <td>1</td>\n",
       "    </tr>\n",
       "    <tr>\n",
       "      <th>8742</th>\n",
       "      <td>101</td>\n",
       "      <td>2017-07-10 06:50:09</td>\n",
       "      <td>2017-07-10 06:51:51</td>\n",
       "      <td>3199</td>\n",
       "      <td>Newport Pkwy</td>\n",
       "      <td>40.728745</td>\n",
       "      <td>-74.032108</td>\n",
       "      <td>3202</td>\n",
       "      <td>Newport PATH</td>\n",
       "      <td>40.727224</td>\n",
       "      <td>-74.033759</td>\n",
       "      <td>26270</td>\n",
       "      <td>Subscriber</td>\n",
       "      <td>1979.0</td>\n",
       "      <td>1</td>\n",
       "    </tr>\n",
       "    <tr>\n",
       "      <th>3370</th>\n",
       "      <td>290</td>\n",
       "      <td>2017-07-05 05:32:58</td>\n",
       "      <td>2017-07-05 05:37:48</td>\n",
       "      <td>3270</td>\n",
       "      <td>Jersey &amp; 6th St</td>\n",
       "      <td>40.725289</td>\n",
       "      <td>-74.045572</td>\n",
       "      <td>3186</td>\n",
       "      <td>Grove St PATH</td>\n",
       "      <td>40.719586</td>\n",
       "      <td>-74.043117</td>\n",
       "      <td>29589</td>\n",
       "      <td>Subscriber</td>\n",
       "      <td>1974.0</td>\n",
       "      <td>1</td>\n",
       "    </tr>\n",
       "    <tr>\n",
       "      <th>22138</th>\n",
       "      <td>104</td>\n",
       "      <td>2017-07-21 17:36:44</td>\n",
       "      <td>2017-07-21 17:38:29</td>\n",
       "      <td>3275</td>\n",
       "      <td>Columbus Drive</td>\n",
       "      <td>40.718355</td>\n",
       "      <td>-74.038914</td>\n",
       "      <td>3187</td>\n",
       "      <td>Warren St</td>\n",
       "      <td>40.721124</td>\n",
       "      <td>-74.038051</td>\n",
       "      <td>26168</td>\n",
       "      <td>Subscriber</td>\n",
       "      <td>1988.0</td>\n",
       "      <td>2</td>\n",
       "    </tr>\n",
       "    <tr>\n",
       "      <th>23523</th>\n",
       "      <td>460</td>\n",
       "      <td>2017-07-23 10:38:55</td>\n",
       "      <td>2017-07-23 10:46:36</td>\n",
       "      <td>3270</td>\n",
       "      <td>Jersey &amp; 6th St</td>\n",
       "      <td>40.725289</td>\n",
       "      <td>-74.045572</td>\n",
       "      <td>3186</td>\n",
       "      <td>Grove St PATH</td>\n",
       "      <td>40.719586</td>\n",
       "      <td>-74.043117</td>\n",
       "      <td>29497</td>\n",
       "      <td>Customer</td>\n",
       "      <td>NaN</td>\n",
       "      <td>0</td>\n",
       "    </tr>\n",
       "    <tr>\n",
       "      <th>21332</th>\n",
       "      <td>220</td>\n",
       "      <td>2017-07-21 06:03:56</td>\n",
       "      <td>2017-07-21 06:07:36</td>\n",
       "      <td>3269</td>\n",
       "      <td>Brunswick &amp; 6th</td>\n",
       "      <td>40.726012</td>\n",
       "      <td>-74.050389</td>\n",
       "      <td>3186</td>\n",
       "      <td>Grove St PATH</td>\n",
       "      <td>40.719586</td>\n",
       "      <td>-74.043117</td>\n",
       "      <td>29462</td>\n",
       "      <td>Subscriber</td>\n",
       "      <td>1989.0</td>\n",
       "      <td>2</td>\n",
       "    </tr>\n",
       "    <tr>\n",
       "      <th>21300</th>\n",
       "      <td>350</td>\n",
       "      <td>2017-07-21 00:00:18</td>\n",
       "      <td>2017-07-21 00:06:08</td>\n",
       "      <td>3187</td>\n",
       "      <td>Warren St</td>\n",
       "      <td>40.721124</td>\n",
       "      <td>-74.038051</td>\n",
       "      <td>3211</td>\n",
       "      <td>Newark Ave</td>\n",
       "      <td>40.721525</td>\n",
       "      <td>-74.046305</td>\n",
       "      <td>29556</td>\n",
       "      <td>Subscriber</td>\n",
       "      <td>1996.0</td>\n",
       "      <td>1</td>\n",
       "    </tr>\n",
       "    <tr>\n",
       "      <th>7280</th>\n",
       "      <td>277</td>\n",
       "      <td>2017-07-08 16:27:27</td>\n",
       "      <td>2017-07-08 16:32:04</td>\n",
       "      <td>3269</td>\n",
       "      <td>Brunswick &amp; 6th</td>\n",
       "      <td>40.726012</td>\n",
       "      <td>-74.050389</td>\n",
       "      <td>3273</td>\n",
       "      <td>Manila &amp; 1st</td>\n",
       "      <td>40.721651</td>\n",
       "      <td>-74.042884</td>\n",
       "      <td>26222</td>\n",
       "      <td>Subscriber</td>\n",
       "      <td>1964.0</td>\n",
       "      <td>1</td>\n",
       "    </tr>\n",
       "    <tr>\n",
       "      <th>4509</th>\n",
       "      <td>116</td>\n",
       "      <td>2017-07-05 23:04:08</td>\n",
       "      <td>2017-07-05 23:06:04</td>\n",
       "      <td>3185</td>\n",
       "      <td>City Hall</td>\n",
       "      <td>40.717733</td>\n",
       "      <td>-74.043845</td>\n",
       "      <td>3213</td>\n",
       "      <td>Van Vorst Park</td>\n",
       "      <td>40.718489</td>\n",
       "      <td>-74.047727</td>\n",
       "      <td>26185</td>\n",
       "      <td>Subscriber</td>\n",
       "      <td>1967.0</td>\n",
       "      <td>2</td>\n",
       "    </tr>\n",
       "    <tr>\n",
       "      <th>11528</th>\n",
       "      <td>274</td>\n",
       "      <td>2017-07-12 09:21:28</td>\n",
       "      <td>2017-07-12 09:26:03</td>\n",
       "      <td>3186</td>\n",
       "      <td>Grove St PATH</td>\n",
       "      <td>40.719586</td>\n",
       "      <td>-74.043117</td>\n",
       "      <td>3203</td>\n",
       "      <td>Hamilton Park</td>\n",
       "      <td>40.727596</td>\n",
       "      <td>-74.044247</td>\n",
       "      <td>29639</td>\n",
       "      <td>Subscriber</td>\n",
       "      <td>1994.0</td>\n",
       "      <td>2</td>\n",
       "    </tr>\n",
       "  </tbody>\n",
       "</table>\n",
       "</div>"
      ],
      "text/plain": [
       "       tripduration            starttime             stoptime  \\\n",
       "1632             84  2017-07-03 09:16:21  2017-07-03 09:17:46   \n",
       "8742            101  2017-07-10 06:50:09  2017-07-10 06:51:51   \n",
       "3370            290  2017-07-05 05:32:58  2017-07-05 05:37:48   \n",
       "22138           104  2017-07-21 17:36:44  2017-07-21 17:38:29   \n",
       "23523           460  2017-07-23 10:38:55  2017-07-23 10:46:36   \n",
       "21332           220  2017-07-21 06:03:56  2017-07-21 06:07:36   \n",
       "21300           350  2017-07-21 00:00:18  2017-07-21 00:06:08   \n",
       "7280            277  2017-07-08 16:27:27  2017-07-08 16:32:04   \n",
       "4509            116  2017-07-05 23:04:08  2017-07-05 23:06:04   \n",
       "11528           274  2017-07-12 09:21:28  2017-07-12 09:26:03   \n",
       "\n",
       "       start station id start station name  start station latitude  \\\n",
       "1632               3275     Columbus Drive               40.718355   \n",
       "8742               3199       Newport Pkwy               40.728745   \n",
       "3370               3270    Jersey & 6th St               40.725289   \n",
       "22138              3275     Columbus Drive               40.718355   \n",
       "23523              3270    Jersey & 6th St               40.725289   \n",
       "21332              3269    Brunswick & 6th               40.726012   \n",
       "21300              3187          Warren St               40.721124   \n",
       "7280               3269    Brunswick & 6th               40.726012   \n",
       "4509               3185          City Hall               40.717733   \n",
       "11528              3186      Grove St PATH               40.719586   \n",
       "\n",
       "       start station longitude  end station id end station name  \\\n",
       "1632                -74.038914            3187        Warren St   \n",
       "8742                -74.032108            3202     Newport PATH   \n",
       "3370                -74.045572            3186    Grove St PATH   \n",
       "22138               -74.038914            3187        Warren St   \n",
       "23523               -74.045572            3186    Grove St PATH   \n",
       "21332               -74.050389            3186    Grove St PATH   \n",
       "21300               -74.038051            3211       Newark Ave   \n",
       "7280                -74.050389            3273     Manila & 1st   \n",
       "4509                -74.043845            3213   Van Vorst Park   \n",
       "11528               -74.043117            3203    Hamilton Park   \n",
       "\n",
       "       end station latitude  end station longitude  bikeid    usertype  \\\n",
       "1632              40.721124             -74.038051   26237  Subscriber   \n",
       "8742              40.727224             -74.033759   26270  Subscriber   \n",
       "3370              40.719586             -74.043117   29589  Subscriber   \n",
       "22138             40.721124             -74.038051   26168  Subscriber   \n",
       "23523             40.719586             -74.043117   29497    Customer   \n",
       "21332             40.719586             -74.043117   29462  Subscriber   \n",
       "21300             40.721525             -74.046305   29556  Subscriber   \n",
       "7280              40.721651             -74.042884   26222  Subscriber   \n",
       "4509              40.718489             -74.047727   26185  Subscriber   \n",
       "11528             40.727596             -74.044247   29639  Subscriber   \n",
       "\n",
       "       birth year  gender  \n",
       "1632       1966.0       1  \n",
       "8742       1979.0       1  \n",
       "3370       1974.0       1  \n",
       "22138      1988.0       2  \n",
       "23523         NaN       0  \n",
       "21332      1989.0       2  \n",
       "21300      1996.0       1  \n",
       "7280       1964.0       1  \n",
       "4509       1967.0       2  \n",
       "11528      1994.0       2  "
      ]
     },
     "execution_count": 4,
     "metadata": {},
     "output_type": "execute_result"
    }
   ],
   "source": [
    "df.sample(10)"
   ]
  },
  {
   "cell_type": "code",
   "execution_count": 5,
   "metadata": {},
   "outputs": [
    {
     "data": {
      "text/plain": [
       "tripduration                 int64\n",
       "starttime                   object\n",
       "stoptime                    object\n",
       "start_station_id             int64\n",
       "start_station_name          object\n",
       "start_station_latitude     float64\n",
       "start_station_longitude    float64\n",
       "end_station_id               int64\n",
       "end_station_name            object\n",
       "end_station_latitude       float64\n",
       "end_station_longitude      float64\n",
       "bikeid                       int64\n",
       "usertype                    object\n",
       "birth_year                 float64\n",
       "gender                       int64\n",
       "dtype: object"
      ]
     },
     "execution_count": 5,
     "metadata": {},
     "output_type": "execute_result"
    }
   ],
   "source": [
    "df.columns = [col.replace(\" \", \"_\") for col in df.columns]\n",
    "df.dtypes"
   ]
  },
  {
   "cell_type": "code",
   "execution_count": 6,
   "metadata": {
    "collapsed": true
   },
   "outputs": [],
   "source": [
    "df = df[df['birth_year'].notnull()]\n",
    "df['age'] = 2017.0 - df['birth_year']"
   ]
  },
  {
   "cell_type": "code",
   "execution_count": 22,
   "metadata": {
    "collapsed": true
   },
   "outputs": [],
   "source": [
    "# Remove rows with NA in Birth Year\n",
    "ADS = df[(df.age < df.age.quantile(.99)) & \\\n",
    "         (df.tripduration < df.tripduration.quantile(0.99))]"
   ]
  },
  {
   "cell_type": "code",
   "execution_count": 23,
   "metadata": {},
   "outputs": [
    {
     "name": "stdout",
     "output_type": "stream",
     "text": [
      "count    29923.000000\n",
      "mean       510.198510\n",
      "std        441.768023\n",
      "min         61.000000\n",
      "25%        241.000000\n",
      "50%        361.000000\n",
      "75%        604.000000\n",
      "max       2891.000000\n",
      "Name: tripduration, dtype: float64\n",
      "\n",
      "\n",
      "count    29923.000000\n",
      "mean        36.215687\n",
      "std          9.202288\n",
      "min         16.000000\n",
      "25%         29.000000\n",
      "50%         34.000000\n",
      "75%         41.000000\n",
      "max         62.000000\n",
      "Name: age, dtype: float64\n"
     ]
    }
   ],
   "source": [
    "print(ADS.tripduration.describe())\n",
    "print(\"\\n\")\n",
    "print(ADS.age.describe())"
   ]
  },
  {
   "cell_type": "code",
   "execution_count": 24,
   "metadata": {},
   "outputs": [
    {
     "data": {
      "image/png": "[encoded data removed]",
      "text/plain": [
       "<matplotlib.figure.Figure at 0x110e8d150>"
      ]
     },
     "metadata": {},
     "output_type": "display_data"
    }
   ],
   "source": [
    "fig = ADS[\"age\"].hist(bins = 20);\n",
    "fig.set_ylabel(\"Count\");\n",
    "fig.set_xlabel(\"Age\");\n",
    "fig.set_title(\"Count of Rider Age under 95 Percentile\");"
   ]
  },
  {
   "cell_type": "code",
   "execution_count": 25,
   "metadata": {},
   "outputs": [
    {
     "data": {
      "image/png": "[encoded data removed]",
      "text/plain": [
       "<matplotlib.figure.Figure at 0x115a22a50>"
      ]
     },
     "metadata": {},
     "output_type": "display_data"
    }
   ],
   "source": [
    "fig = ADS[\"tripduration\"].hist(bins = 20);\n",
    "fig.set_ylabel(\"Count\");\n",
    "fig.set_xlabel(\"Trip Duration\");\n",
    "fig.set_title(\"Count of Trip Duration under 95 Percentile\");"
   ]
  },
  {
   "cell_type": "code",
   "execution_count": 26,
   "metadata": {},
   "outputs": [
    {
     "data": {
      "image/png": "[encoded data removed]",
      "text/plain": [
       "<matplotlib.figure.Figure at 0x115cf4390>"
      ]
     },
     "metadata": {},
     "output_type": "display_data"
    }
   ],
   "source": [
    "fig = ADS[[\"age\", \"tripduration\"]].plot(kind = \"scatter\", alpha = .5, x = \"age\", y = \"tripduration\");\n",
    "fig.set_title(\"Age vs. Trip Duration\");"
   ]
  },
  {
   "cell_type": "markdown",
   "metadata": {},
   "source": [
    "---\n",
    "\n",
    "## Day Night vs. Trip Duration\n",
    "\n",
    "**Question:** Does the start time have an impact on trip duration?\n",
    "<br>\n",
    "**NULL Hypothesis:** The average trip duration is the same if when it starts in the day or night."
   ]
  },
  {
   "cell_type": "code",
   "execution_count": 27,
   "metadata": {},
   "outputs": [
    {
     "name": "stderr",
     "output_type": "stream",
     "text": [
      "/Users/Ian/anaconda/lib/python2.7/site-packages/ipykernel_launcher.py:1: SettingWithCopyWarning: \n",
      "A value is trying to be set on a copy of a slice from a DataFrame.\n",
      "Try using .loc[row_indexer,col_indexer] = value instead\n",
      "\n",
      "See the caveats in the documentation: http://pandas.pydata.org/pandas-docs/stable/indexing.html#indexing-view-versus-copy\n",
      "  \"\"\"Entry point for launching an IPython kernel.\n",
      "/Users/Ian/anaconda/lib/python2.7/site-packages/ipykernel_launcher.py:2: SettingWithCopyWarning: \n",
      "A value is trying to be set on a copy of a slice from a DataFrame.\n",
      "Try using .loc[row_indexer,col_indexer] = value instead\n",
      "\n",
      "See the caveats in the documentation: http://pandas.pydata.org/pandas-docs/stable/indexing.html#indexing-view-versus-copy\n",
      "  \n"
     ]
    }
   ],
   "source": [
    "ADS['starttime'] = pd.to_datetime(ADS['starttime'])\n",
    "ADS['time'] = ADS['starttime'].dt.hour"
   ]
  },
  {
   "cell_type": "code",
   "execution_count": 28,
   "metadata": {},
   "outputs": [
    {
     "data": {
      "text/plain": [
       "12061    18\n",
       "30528    12\n",
       "6616     20\n",
       "16163    20\n",
       "26056    18\n",
       "31975    17\n",
       "29855    17\n",
       "32149    19\n",
       "32949    16\n",
       "16019    18\n",
       "Name: time, dtype: int64"
      ]
     },
     "execution_count": 28,
     "metadata": {},
     "output_type": "execute_result"
    }
   ],
   "source": [
    "ADS['time'].sample(10)"
   ]
  },
  {
   "cell_type": "code",
   "execution_count": 34,
   "metadata": {},
   "outputs": [
    {
     "name": "stderr",
     "output_type": "stream",
     "text": [
      "/Users/Ian/anaconda/lib/python2.7/site-packages/ipykernel_launcher.py:13: SettingWithCopyWarning: \n",
      "A value is trying to be set on a copy of a slice from a DataFrame.\n",
      "Try using .loc[row_indexer,col_indexer] = value instead\n",
      "\n",
      "See the caveats in the documentation: http://pandas.pydata.org/pandas-docs/stable/indexing.html#indexing-view-versus-copy\n",
      "  del sys.path[0]\n"
     ]
    }
   ],
   "source": [
    "# Day - 1; Night - 0\n",
    "\n",
    "def DayNightMap(x):\n",
    "    \n",
    "    if x >= 7 and x <=18:\n",
    "        value = 1\n",
    "    else: \n",
    "        value = 0\n",
    "    \n",
    "    return value\n",
    "\n",
    "\n",
    "ADS['DayNight'] = ADS['time'].apply(lambda x: DayNightMap(x))"
   ]
  },
  {
   "cell_type": "code",
   "execution_count": 35,
   "metadata": {
    "scrolled": false
   },
   "outputs": [
    {
     "data": {
      "text/html": [
       "<div>\n",
       "<style>\n",
       "    .dataframe thead tr:only-child th {\n",
       "        text-align: right;\n",
       "    }\n",
       "\n",
       "    .dataframe thead th {\n",
       "        text-align: left;\n",
       "    }\n",
       "\n",
       "    .dataframe tbody tr th {\n",
       "        vertical-align: top;\n",
       "    }\n",
       "</style>\n",
       "<table border=\"1\" class=\"dataframe\">\n",
       "  <thead>\n",
       "    <tr style=\"text-align: right;\">\n",
       "      <th></th>\n",
       "      <th>time</th>\n",
       "      <th>DayNight</th>\n",
       "    </tr>\n",
       "  </thead>\n",
       "  <tbody>\n",
       "    <tr>\n",
       "      <th>14507</th>\n",
       "      <td>11</td>\n",
       "      <td>1</td>\n",
       "    </tr>\n",
       "    <tr>\n",
       "      <th>11420</th>\n",
       "      <td>8</td>\n",
       "      <td>1</td>\n",
       "    </tr>\n",
       "    <tr>\n",
       "      <th>28004</th>\n",
       "      <td>8</td>\n",
       "      <td>1</td>\n",
       "    </tr>\n",
       "    <tr>\n",
       "      <th>11908</th>\n",
       "      <td>17</td>\n",
       "      <td>1</td>\n",
       "    </tr>\n",
       "    <tr>\n",
       "      <th>28660</th>\n",
       "      <td>18</td>\n",
       "      <td>1</td>\n",
       "    </tr>\n",
       "    <tr>\n",
       "      <th>18227</th>\n",
       "      <td>16</td>\n",
       "      <td>1</td>\n",
       "    </tr>\n",
       "    <tr>\n",
       "      <th>15024</th>\n",
       "      <td>18</td>\n",
       "      <td>1</td>\n",
       "    </tr>\n",
       "    <tr>\n",
       "      <th>33236</th>\n",
       "      <td>18</td>\n",
       "      <td>1</td>\n",
       "    </tr>\n",
       "    <tr>\n",
       "      <th>27669</th>\n",
       "      <td>20</td>\n",
       "      <td>0</td>\n",
       "    </tr>\n",
       "    <tr>\n",
       "      <th>882</th>\n",
       "      <td>12</td>\n",
       "      <td>1</td>\n",
       "    </tr>\n",
       "  </tbody>\n",
       "</table>\n",
       "</div>"
      ],
      "text/plain": [
       "       time  DayNight\n",
       "14507    11         1\n",
       "11420     8         1\n",
       "28004     8         1\n",
       "11908    17         1\n",
       "28660    18         1\n",
       "18227    16         1\n",
       "15024    18         1\n",
       "33236    18         1\n",
       "27669    20         0\n",
       "882      12         1"
      ]
     },
     "execution_count": 35,
     "metadata": {},
     "output_type": "execute_result"
    }
   ],
   "source": [
    "ADS[['time', 'DayNight']].sample(10)"
   ]
  },
  {
   "cell_type": "code",
   "execution_count": 73,
   "metadata": {},
   "outputs": [
    {
     "name": "stdout",
     "output_type": "stream",
     "text": [
      "--------- Test on Full Dataset ---------\n",
      "Pearson Correlation Coefficient: 0.015\n",
      "2 tailed p-value: 0.012\n",
      "\n",
      "\n",
      "Spearman Correlation Coefficient: 0.036\n",
      "2 tailed p-value: 0.00000\n",
      "\n",
      "\n",
      "KS Correlation Coefficient: 1.000\n",
      "2 tailed p-value: 0.000\n",
      "\n",
      "\n"
     ]
    }
   ],
   "source": [
    "TimeTrip = ADS[[\"DayNight\", \"tripduration\"]]\n",
    "print(\"--------- Test on Full Dataset ---------\")\n",
    "\n",
    "# Run Pearson Correlation Test\n",
    "pearson = stats.pearsonr(TimeTrip.DayNight, TimeTrip.tripduration)\n",
    "print(\"Pearson Correlation Coefficient: %.3f\" % pearson[0])\n",
    "print(\"2 tailed p-value: %.3f\" % pearson[1])\n",
    "print(\"\\n\")\n",
    "\n",
    "# Run Spearman Correlation Test\n",
    "spearman = stats.spearmanr(TimeTrip.DayNight, TimeTrip.tripduration)\n",
    "\n",
    "print(\"Spearman Correlation Coefficient: %.3f\" % spearman[0])\n",
    "print(\"2 tailed p-value: %.5f\" % spearman[1])\n",
    "print(\"\\n\")\n",
    "\n",
    "# Run KS Test\n",
    "\n",
    "ks = stats.ks_2samp(TimeTrip.DayNight, TimeTrip.tripduration)\n",
    "print(\"KS Correlation Coefficient: %.3f\" % ks[0])\n",
    "print(\"2 tailed p-value: %.3f\" % ks[1])\n",
    "print(\"\\n\")"
   ]
  },
  {
   "cell_type": "code",
   "execution_count": 74,
   "metadata": {},
   "outputs": [
    {
     "name": "stdout",
     "output_type": "stream",
     "text": [
      "--------- Test on 200 Sample ---------\n",
      "Pearson Correlation Coefficient: -0.007\n",
      "2 tailed p-value: 0.918\n",
      "\n",
      "\n",
      "Spearman Correlation Coefficient: 0.044\n",
      "2 tailed p-value: 0.53319\n",
      "\n",
      "\n",
      "KS Correlation Coefficient: 1.000\n",
      "2 tailed p-value: 0.000\n",
      "\n",
      "\n"
     ]
    }
   ],
   "source": [
    "# Run the test on 200 sample\n",
    "\n",
    "sample = TimeTrip.sample(200)\n",
    "print(\"--------- Test on 200 Sample ---------\")\n",
    "\n",
    "# Run Pearson Correlation Test\n",
    "pearson = stats.pearsonr(sample.DayNight, sample.tripduration)\n",
    "print(\"Pearson Correlation Coefficient: %.3f\" % pearson[0])\n",
    "print(\"2 tailed p-value: %.3f\" % pearson[1])\n",
    "print(\"\\n\")\n",
    "\n",
    "# Run Spearman Correlation Test\n",
    "spearman = stats.spearmanr(sample.DayNight, sample.tripduration)\n",
    "\n",
    "print(\"Spearman Correlation Coefficient: %.3f\" % spearman[0])\n",
    "print(\"2 tailed p-value: %.5f\" % spearman[1])\n",
    "print(\"\\n\")\n",
    "\n",
    "# Run KS Test\n",
    "\n",
    "ks = stats.ks_2samp(sample.DayNight, sample.tripduration)\n",
    "print(\"KS Correlation Coefficient: %.3f\" % ks[0])\n",
    "print(\"2 tailed p-value: %.3f\" % ks[1])\n",
    "print(\"\\n\")"
   ]
  },
  {
   "cell_type": "markdown",
   "metadata": {},
   "source": [
    "---\n",
    "# Start Location vs. Rider Age\n",
    "\n",
    "**Question:** Is there a relationship between Rider Age and Trip Start Location?\n",
    "<br>\n",
    "**NULL Hypothesis:** The average age of riders are the same in Mahattan or Brooklyn."
   ]
  },
  {
   "cell_type": "code",
   "execution_count": 79,
   "metadata": {},
   "outputs": [
    {
     "name": "stderr",
     "output_type": "stream",
     "text": [
      "/Users/Ian/anaconda/lib/python2.7/site-packages/ipykernel_launcher.py:20: SettingWithCopyWarning: \n",
      "A value is trying to be set on a copy of a slice from a DataFrame.\n",
      "Try using .loc[row_indexer,col_indexer] = value instead\n",
      "\n",
      "See the caveats in the documentation: http://pandas.pydata.org/pandas-docs/stable/indexing.html#indexing-view-versus-copy\n"
     ]
    }
   ],
   "source": [
    "# Manhattan - North Latitude: 40.882214 South Latitude: 40.680396 East Longitude: -73.907000 West Longitude: -74.047285\n",
    "# Brooklyn - North Latitude: 40.739446 South Latitude: 40.551042 East Longitude: -73.833365 West Longitude: -74.056630\n",
    "# Boundary from: https://www.mapdevelopers.com/geocode_bounding_box.php\n",
    "# Manhattan - 1; Brooklyn - 0; Other - 2\n",
    "\n",
    "def locationMap(lat, long):\n",
    "    \n",
    "    ManhattanBound = [40.882214,40.680396, -73.907000, -74.047285]\n",
    "    BrooklynBound = [40.739446, 40.551042, -73.833365, -74.056630] \n",
    "    \n",
    "    if (ManhattanBound[1] < lat < ManhattanBound[0]) and (ManhattanBound[3] < long < ManhattanBound[2]):\n",
    "        location = 1\n",
    "    elif (BrooklynBound[1] < lat < BrooklynBound[0]) and (BrooklynBound[3] < long < BrooklynBound[2]):\n",
    "        location = 0\n",
    "    else:\n",
    "        location = 2\n",
    "    \n",
    "    return location\n",
    "\n",
    "ADS['location'] = ADS.apply(lambda x: locationMap(x['start_station_latitude'], x['start_station_longitude']), axis = 1)"
   ]
  },
  {
   "cell_type": "code",
   "execution_count": 49,
   "metadata": {},
   "outputs": [
    {
     "data": {
      "text/plain": [
       "1    19384\n",
       "0     5409\n",
       "2     5130\n",
       "Name: location, dtype: int64"
      ]
     },
     "execution_count": 49,
     "metadata": {},
     "output_type": "execute_result"
    }
   ],
   "source": [
    "ADS['location'].value_counts()"
   ]
  },
  {
   "cell_type": "code",
   "execution_count": 77,
   "metadata": {},
   "outputs": [
    {
     "name": "stdout",
     "output_type": "stream",
     "text": [
      "--------- Test on Full Dataset ---------\n",
      "Pearson Correlation Coefficient: 0.046\n",
      "2 tailed p-value: 0.000\n",
      "\n",
      "\n",
      "Spearman Correlation Coefficient: 0.039\n",
      "2 tailed p-value: 0.00000\n",
      "\n",
      "\n",
      "KS Correlation Coefficient: 1.000\n",
      "2 tailed p-value: 0.000\n",
      "\n",
      "\n"
     ]
    }
   ],
   "source": [
    "locaitonAge = ADS[(ADS[\"location\"] ==1) | (ADS[\"location\"] ==0)][[\"location\", \"age\"]]\n",
    "print(\"--------- Test on Full Dataset ---------\")\n",
    "\n",
    "# Run Pearson Correlation Test\n",
    "pearson = stats.pearsonr(locaitonAge.location, locaitonAge.age)\n",
    "print(\"Pearson Correlation Coefficient: %.3f\" % pearson[0])\n",
    "print(\"2 tailed p-value: %.3f\" % pearson[1])\n",
    "print(\"\\n\")\n",
    "\n",
    "# Run Spearman Correlation Test\n",
    "spearman = stats.spearmanr(locaitonAge.location, locaitonAge.age)\n",
    "\n",
    "print(\"Spearman Correlation Coefficient: %.3f\" % spearman[0])\n",
    "print(\"2 tailed p-value: %.5f\" % spearman[1])\n",
    "print(\"\\n\")\n",
    "\n",
    "# Run KS Test\n",
    "\n",
    "ks = stats.ks_2samp(locaitonAge.location, locaitonAge.age)\n",
    "print(\"KS Correlation Coefficient: %.3f\" % ks[0])\n",
    "print(\"2 tailed p-value: %.3f\" % ks[1])\n",
    "print(\"\\n\")"
   ]
  },
  {
   "cell_type": "code",
   "execution_count": 78,
   "metadata": {},
   "outputs": [
    {
     "name": "stdout",
     "output_type": "stream",
     "text": [
      "--------- Test on 200 Samples ---------\n",
      "Pearson Correlation Coefficient: 0.021\n",
      "2 tailed p-value: 0.769\n",
      "\n",
      "\n",
      "Spearman Correlation Coefficient: 0.020\n",
      "2 tailed p-value: 0.78086\n",
      "\n",
      "\n",
      "KS Correlation Coefficient: 1.000\n",
      "2 tailed p-value: 0.000\n",
      "\n",
      "\n"
     ]
    }
   ],
   "source": [
    "sample = locaitonAge.sample(200)\n",
    "print(\"--------- Test on 200 Samples ---------\")\n",
    "\n",
    "# Run Pearson Correlation Test\n",
    "pearson = stats.pearsonr(sample.location, sample.age)\n",
    "print(\"Pearson Correlation Coefficient: %.3f\" % pearson[0])\n",
    "print(\"2 tailed p-value: %.3f\" % pearson[1])\n",
    "print(\"\\n\")\n",
    "\n",
    "# Run Spearman Correlation Test\n",
    "spearman = stats.spearmanr(sample.location, sample.age)\n",
    "\n",
    "print(\"Spearman Correlation Coefficient: %.3f\" % spearman[0])\n",
    "print(\"2 tailed p-value: %.5f\" % spearman[1])\n",
    "print(\"\\n\")\n",
    "\n",
    "# Run KS Test\n",
    "\n",
    "ks = stats.ks_2samp(sample.location, sample.age)\n",
    "print(\"KS Correlation Coefficient: %.3f\" % ks[0])\n",
    "print(\"2 tailed p-value: %.3f\" % ks[1])\n",
    "print(\"\\n\")"
   ]
  }
 ],
 "metadata": {
  "kernelspec": {
   "display_name": "Python 2",
   "language": "python",
   "name": "python2"
  },
  "language_info": {
   "codemirror_mode": {
    "name": "ipython",
    "version": 2
   },
   "file_extension": ".py",
   "mimetype": "text/x-python",
   "name": "python",
   "nbconvert_exporter": "python",
   "pygments_lexer": "ipython2",
   "version": "2.7.13"
  }
 },
 "nbformat": 4,
 "nbformat_minor": 2
}
