{
 "cells": [
  {
   "cell_type": "markdown",
   "metadata": {},
   "source": [
    "## Overview\n",
    "\n",
    "This script applies different correlation tests on CitiBike data. These tests include:\n",
    "- **Pearson**: this measures the linear relationship between two samples; it assumes normal distribution in the samples (parametric)\n",
    "- **Spearman**: this measures monotonicity of two samples; it does not assume normal distributions in the samples (nonparametric)\n",
    "- **K-S test**: this tests whether two samples are drawn from the same distribution; the distribution assumed to be continuous\n",
    "\n",
    "The intention is to demonstrate the use of statistical tests under different questions and data type\n",
    "<br\\>\n",
    "<img src = \"https://i.pinimg.com/originals/da/c9/60/dac96086a651aea01b0ef24da4faaa9f.jpg\", width = 700, height = 500, align = left>"
   ]
  },
  {
   "cell_type": "code",
   "execution_count": 118,
   "metadata": {},
   "outputs": [
    {
     "name": "stdout",
     "output_type": "stream",
     "text": [
      "Populating the interactive namespace from numpy and matplotlib\n"
     ]
    },
    {
     "name": "stderr",
     "output_type": "stream",
     "text": [
      "/Users/Ian/anaconda/envs/python36/lib/python3.6/site-packages/IPython/core/magics/pylab.py:160: UserWarning: pylab import has clobbered these variables: ['plt', 'sample']\n",
      "`%matplotlib` prevents importing * from pylab and numpy\n",
      "  \"\\n`%matplotlib` prevents importing * from pylab and numpy\"\n"
     ]
    }
   ],
   "source": [
    "import pandas as pd\n",
    "import numpy as np\n",
    "import matplotlib.pylab as plt\n",
    "import matplotlib.style as style\n",
    "import scipy.stats as stats\n",
    "\n",
    "style.use(\"fivethirtyeight\")\n",
    "%pylab inline"
   ]
  },
  {
   "cell_type": "code",
   "execution_count": 119,
   "metadata": {
    "collapsed": true
   },
   "outputs": [],
   "source": [
    "path = \"https://s3.amazonaws.com/tripdata/JC-201707-citibike-tripdata.csv.zip\"\n",
    "df = pd.read_csv(path, compression='zip')"
   ]
  },
  {
   "cell_type": "code",
   "execution_count": 120,
   "metadata": {},
   "outputs": [
    {
     "data": {
      "text/html": [
       "<div>\n",
       "<style>\n",
       "    .dataframe thead tr:only-child th {\n",
       "        text-align: right;\n",
       "    }\n",
       "\n",
       "    .dataframe thead th {\n",
       "        text-align: left;\n",
       "    }\n",
       "\n",
       "    .dataframe tbody tr th {\n",
       "        vertical-align: top;\n",
       "    }\n",
       "</style>\n",
       "<table border=\"1\" class=\"dataframe\">\n",
       "  <thead>\n",
       "    <tr style=\"text-align: right;\">\n",
       "      <th></th>\n",
       "      <th>tripduration</th>\n",
       "      <th>starttime</th>\n",
       "      <th>stoptime</th>\n",
       "      <th>start station id</th>\n",
       "      <th>start station name</th>\n",
       "      <th>start station latitude</th>\n",
       "      <th>start station longitude</th>\n",
       "      <th>end station id</th>\n",
       "      <th>end station name</th>\n",
       "      <th>end station latitude</th>\n",
       "      <th>end station longitude</th>\n",
       "      <th>bikeid</th>\n",
       "      <th>usertype</th>\n",
       "      <th>birth year</th>\n",
       "      <th>gender</th>\n",
       "    </tr>\n",
       "  </thead>\n",
       "  <tbody>\n",
       "    <tr>\n",
       "      <th>3422</th>\n",
       "      <td>199</td>\n",
       "      <td>2017-07-05 07:15:39</td>\n",
       "      <td>2017-07-05 07:18:59</td>\n",
       "      <td>3270</td>\n",
       "      <td>Jersey &amp; 6th St</td>\n",
       "      <td>40.725289</td>\n",
       "      <td>-74.045572</td>\n",
       "      <td>3186</td>\n",
       "      <td>Grove St PATH</td>\n",
       "      <td>40.719586</td>\n",
       "      <td>-74.043117</td>\n",
       "      <td>26216</td>\n",
       "      <td>Subscriber</td>\n",
       "      <td>1969.0</td>\n",
       "      <td>1</td>\n",
       "    </tr>\n",
       "    <tr>\n",
       "      <th>19885</th>\n",
       "      <td>1663</td>\n",
       "      <td>2017-07-19 20:11:16</td>\n",
       "      <td>2017-07-19 20:39:00</td>\n",
       "      <td>3183</td>\n",
       "      <td>Exchange Place</td>\n",
       "      <td>40.716247</td>\n",
       "      <td>-74.033459</td>\n",
       "      <td>3195</td>\n",
       "      <td>Sip Ave</td>\n",
       "      <td>40.730743</td>\n",
       "      <td>-74.063784</td>\n",
       "      <td>26268</td>\n",
       "      <td>Subscriber</td>\n",
       "      <td>1970.0</td>\n",
       "      <td>2</td>\n",
       "    </tr>\n",
       "    <tr>\n",
       "      <th>29257</th>\n",
       "      <td>153</td>\n",
       "      <td>2017-07-28 08:12:26</td>\n",
       "      <td>2017-07-28 08:14:59</td>\n",
       "      <td>3279</td>\n",
       "      <td>Dixon Mills</td>\n",
       "      <td>40.721630</td>\n",
       "      <td>-74.049968</td>\n",
       "      <td>3186</td>\n",
       "      <td>Grove St PATH</td>\n",
       "      <td>40.719586</td>\n",
       "      <td>-74.043117</td>\n",
       "      <td>29591</td>\n",
       "      <td>Subscriber</td>\n",
       "      <td>1990.0</td>\n",
       "      <td>1</td>\n",
       "    </tr>\n",
       "    <tr>\n",
       "      <th>16698</th>\n",
       "      <td>249</td>\n",
       "      <td>2017-07-17 10:10:13</td>\n",
       "      <td>2017-07-17 10:14:22</td>\n",
       "      <td>3186</td>\n",
       "      <td>Grove St PATH</td>\n",
       "      <td>40.719586</td>\n",
       "      <td>-74.043117</td>\n",
       "      <td>3203</td>\n",
       "      <td>Hamilton Park</td>\n",
       "      <td>40.727596</td>\n",
       "      <td>-74.044247</td>\n",
       "      <td>29531</td>\n",
       "      <td>Subscriber</td>\n",
       "      <td>1994.0</td>\n",
       "      <td>2</td>\n",
       "    </tr>\n",
       "    <tr>\n",
       "      <th>29003</th>\n",
       "      <td>1255</td>\n",
       "      <td>2017-07-27 21:45:01</td>\n",
       "      <td>2017-07-27 22:05:56</td>\n",
       "      <td>3198</td>\n",
       "      <td>Heights Elevator</td>\n",
       "      <td>40.748716</td>\n",
       "      <td>-74.040443</td>\n",
       "      <td>3210</td>\n",
       "      <td>Pershing Field</td>\n",
       "      <td>40.742677</td>\n",
       "      <td>-74.051789</td>\n",
       "      <td>26281</td>\n",
       "      <td>Subscriber</td>\n",
       "      <td>1990.0</td>\n",
       "      <td>1</td>\n",
       "    </tr>\n",
       "    <tr>\n",
       "      <th>5956</th>\n",
       "      <td>461</td>\n",
       "      <td>2017-07-07 08:34:59</td>\n",
       "      <td>2017-07-07 08:42:40</td>\n",
       "      <td>3205</td>\n",
       "      <td>JC Medical Center</td>\n",
       "      <td>40.716540</td>\n",
       "      <td>-74.049638</td>\n",
       "      <td>3183</td>\n",
       "      <td>Exchange Place</td>\n",
       "      <td>40.716247</td>\n",
       "      <td>-74.033459</td>\n",
       "      <td>29548</td>\n",
       "      <td>Subscriber</td>\n",
       "      <td>1985.0</td>\n",
       "      <td>1</td>\n",
       "    </tr>\n",
       "    <tr>\n",
       "      <th>18250</th>\n",
       "      <td>644</td>\n",
       "      <td>2017-07-18 17:05:05</td>\n",
       "      <td>2017-07-18 17:15:50</td>\n",
       "      <td>3202</td>\n",
       "      <td>Newport PATH</td>\n",
       "      <td>40.727224</td>\n",
       "      <td>-74.033759</td>\n",
       "      <td>3213</td>\n",
       "      <td>Van Vorst Park</td>\n",
       "      <td>40.718489</td>\n",
       "      <td>-74.047727</td>\n",
       "      <td>29298</td>\n",
       "      <td>Subscriber</td>\n",
       "      <td>1990.0</td>\n",
       "      <td>1</td>\n",
       "    </tr>\n",
       "    <tr>\n",
       "      <th>17029</th>\n",
       "      <td>1561</td>\n",
       "      <td>2017-07-17 17:28:31</td>\n",
       "      <td>2017-07-17 17:54:33</td>\n",
       "      <td>3202</td>\n",
       "      <td>Newport PATH</td>\n",
       "      <td>40.727224</td>\n",
       "      <td>-74.033759</td>\n",
       "      <td>3197</td>\n",
       "      <td>North St</td>\n",
       "      <td>40.752559</td>\n",
       "      <td>-74.044725</td>\n",
       "      <td>29506</td>\n",
       "      <td>Subscriber</td>\n",
       "      <td>1965.0</td>\n",
       "      <td>1</td>\n",
       "    </tr>\n",
       "    <tr>\n",
       "      <th>23576</th>\n",
       "      <td>675</td>\n",
       "      <td>2017-07-23 11:36:33</td>\n",
       "      <td>2017-07-23 11:47:49</td>\n",
       "      <td>3199</td>\n",
       "      <td>Newport Pkwy</td>\n",
       "      <td>40.728745</td>\n",
       "      <td>-74.032108</td>\n",
       "      <td>3183</td>\n",
       "      <td>Exchange Place</td>\n",
       "      <td>40.716247</td>\n",
       "      <td>-74.033459</td>\n",
       "      <td>29438</td>\n",
       "      <td>Subscriber</td>\n",
       "      <td>1989.0</td>\n",
       "      <td>1</td>\n",
       "    </tr>\n",
       "    <tr>\n",
       "      <th>13524</th>\n",
       "      <td>184</td>\n",
       "      <td>2017-07-13 23:56:03</td>\n",
       "      <td>2017-07-13 23:59:07</td>\n",
       "      <td>3205</td>\n",
       "      <td>JC Medical Center</td>\n",
       "      <td>40.716540</td>\n",
       "      <td>-74.049638</td>\n",
       "      <td>3186</td>\n",
       "      <td>Grove St PATH</td>\n",
       "      <td>40.719586</td>\n",
       "      <td>-74.043117</td>\n",
       "      <td>29665</td>\n",
       "      <td>Subscriber</td>\n",
       "      <td>1986.0</td>\n",
       "      <td>1</td>\n",
       "    </tr>\n",
       "  </tbody>\n",
       "</table>\n",
       "</div>"
      ],
      "text/plain": [
       "       tripduration            starttime             stoptime  \\\n",
       "3422            199  2017-07-05 07:15:39  2017-07-05 07:18:59   \n",
       "19885          1663  2017-07-19 20:11:16  2017-07-19 20:39:00   \n",
       "29257           153  2017-07-28 08:12:26  2017-07-28 08:14:59   \n",
       "16698           249  2017-07-17 10:10:13  2017-07-17 10:14:22   \n",
       "29003          1255  2017-07-27 21:45:01  2017-07-27 22:05:56   \n",
       "5956            461  2017-07-07 08:34:59  2017-07-07 08:42:40   \n",
       "18250           644  2017-07-18 17:05:05  2017-07-18 17:15:50   \n",
       "17029          1561  2017-07-17 17:28:31  2017-07-17 17:54:33   \n",
       "23576           675  2017-07-23 11:36:33  2017-07-23 11:47:49   \n",
       "13524           184  2017-07-13 23:56:03  2017-07-13 23:59:07   \n",
       "\n",
       "       start station id start station name  start station latitude  \\\n",
       "3422               3270    Jersey & 6th St               40.725289   \n",
       "19885              3183     Exchange Place               40.716247   \n",
       "29257              3279        Dixon Mills               40.721630   \n",
       "16698              3186      Grove St PATH               40.719586   \n",
       "29003              3198   Heights Elevator               40.748716   \n",
       "5956               3205  JC Medical Center               40.716540   \n",
       "18250              3202       Newport PATH               40.727224   \n",
       "17029              3202       Newport PATH               40.727224   \n",
       "23576              3199       Newport Pkwy               40.728745   \n",
       "13524              3205  JC Medical Center               40.716540   \n",
       "\n",
       "       start station longitude  end station id end station name  \\\n",
       "3422                -74.045572            3186    Grove St PATH   \n",
       "19885               -74.033459            3195          Sip Ave   \n",
       "29257               -74.049968            3186    Grove St PATH   \n",
       "16698               -74.043117            3203    Hamilton Park   \n",
       "29003               -74.040443            3210   Pershing Field   \n",
       "5956                -74.049638            3183   Exchange Place   \n",
       "18250               -74.033759            3213   Van Vorst Park   \n",
       "17029               -74.033759            3197         North St   \n",
       "23576               -74.032108            3183   Exchange Place   \n",
       "13524               -74.049638            3186    Grove St PATH   \n",
       "\n",
       "       end station latitude  end station longitude  bikeid    usertype  \\\n",
       "3422              40.719586             -74.043117   26216  Subscriber   \n",
       "19885             40.730743             -74.063784   26268  Subscriber   \n",
       "29257             40.719586             -74.043117   29591  Subscriber   \n",
       "16698             40.727596             -74.044247   29531  Subscriber   \n",
       "29003             40.742677             -74.051789   26281  Subscriber   \n",
       "5956              40.716247             -74.033459   29548  Subscriber   \n",
       "18250             40.718489             -74.047727   29298  Subscriber   \n",
       "17029             40.752559             -74.044725   29506  Subscriber   \n",
       "23576             40.716247             -74.033459   29438  Subscriber   \n",
       "13524             40.719586             -74.043117   29665  Subscriber   \n",
       "\n",
       "       birth year  gender  \n",
       "3422       1969.0       1  \n",
       "19885      1970.0       2  \n",
       "29257      1990.0       1  \n",
       "16698      1994.0       2  \n",
       "29003      1990.0       1  \n",
       "5956       1985.0       1  \n",
       "18250      1990.0       1  \n",
       "17029      1965.0       1  \n",
       "23576      1989.0       1  \n",
       "13524      1986.0       1  "
      ]
     },
     "execution_count": 120,
     "metadata": {},
     "output_type": "execute_result"
    }
   ],
   "source": [
    "df.sample(10)"
   ]
  },
  {
   "cell_type": "code",
   "execution_count": 121,
   "metadata": {},
   "outputs": [
    {
     "data": {
      "text/plain": [
       "tripduration                 int64\n",
       "starttime                   object\n",
       "stoptime                    object\n",
       "start_station_id             int64\n",
       "start_station_name          object\n",
       "start_station_latitude     float64\n",
       "start_station_longitude    float64\n",
       "end_station_id               int64\n",
       "end_station_name            object\n",
       "end_station_latitude       float64\n",
       "end_station_longitude      float64\n",
       "bikeid                       int64\n",
       "usertype                    object\n",
       "birth_year                 float64\n",
       "gender                       int64\n",
       "dtype: object"
      ]
     },
     "execution_count": 121,
     "metadata": {},
     "output_type": "execute_result"
    }
   ],
   "source": [
    "df.columns = [col.replace(\" \", \"_\") for col in df.columns]\n",
    "df.dtypes"
   ]
  },
  {
   "cell_type": "code",
   "execution_count": 122,
   "metadata": {
    "collapsed": true
   },
   "outputs": [],
   "source": [
    "df = df[df['birth_year'].notnull()]\n",
    "df['age'] = 2017.0 - df['birth_year']"
   ]
  },
  {
   "cell_type": "code",
   "execution_count": 156,
   "metadata": {
    "collapsed": true
   },
   "outputs": [],
   "source": [
    "# Remove rows with NA in Birth Year\n",
    "ADS = df[(df.age < df.age.quantile(.99)) & \\\n",
    "         (df.tripduration < df.tripduration.quantile(0.99))].sample(1000)"
   ]
  },
  {
   "cell_type": "code",
   "execution_count": 157,
   "metadata": {},
   "outputs": [
    {
     "name": "stdout",
     "output_type": "stream",
     "text": [
      "count    1000.000000\n",
      "mean      511.215000\n",
      "std       447.960627\n",
      "min        62.000000\n",
      "25%       245.000000\n",
      "50%       361.000000\n",
      "75%       599.000000\n",
      "max      2801.000000\n",
      "Name: tripduration, dtype: float64\n",
      "\n",
      "\n",
      "count    1000.000000\n",
      "mean       36.207000\n",
      "std         9.487791\n",
      "min        18.000000\n",
      "25%        29.000000\n",
      "50%        34.000000\n",
      "75%        42.000000\n",
      "max        62.000000\n",
      "Name: age, dtype: float64\n"
     ]
    }
   ],
   "source": [
    "print(ADS.tripduration.describe())\n",
    "print(\"\\n\")\n",
    "print(ADS.age.describe())"
   ]
  },
  {
   "cell_type": "code",
   "execution_count": 158,
   "metadata": {},
   "outputs": [
    {
     "data": {
      "image/png": "[encoded data removed]",
      "text/plain": [
       "<matplotlib.figure.Figure at 0x11a998080>"
      ]
     },
     "metadata": {},
     "output_type": "display_data"
    }
   ],
   "source": [
    "fig = ADS[\"age\"].hist(bins = 20);\n",
    "fig.set_ylabel(\"Count\");\n",
    "fig.set_xlabel(\"Age\");\n",
    "fig.set_title(\"Count of Rider Age under 95 Percentile\");"
   ]
  },
  {
   "cell_type": "code",
   "execution_count": 159,
   "metadata": {},
   "outputs": [
    {
     "data": {
      "image/png": "[encoded data removed]",
      "text/plain": [
       "<matplotlib.figure.Figure at 0x122e54048>"
      ]
     },
     "metadata": {},
     "output_type": "display_data"
    }
   ],
   "source": [
    "fig = ADS[\"tripduration\"].hist(bins = 20);\n",
    "fig.set_ylabel(\"Count\");\n",
    "fig.set_xlabel(\"Trip Duration\");\n",
    "fig.set_title(\"Count of Trip Duration under 95 Percentile\");"
   ]
  },
  {
   "cell_type": "code",
   "execution_count": 160,
   "metadata": {},
   "outputs": [
    {
     "data": {
      "image/png": "[encoded data removed]",
      "text/plain": [
       "<matplotlib.figure.Figure at 0x1200c1320>"
      ]
     },
     "metadata": {},
     "output_type": "display_data"
    }
   ],
   "source": [
    "fig = ADS[[\"age\", \"tripduration\"]].plot(kind = \"scatter\", alpha = .5, x = \"age\", y = \"tripduration\");\n",
    "fig.set_title(\"Age vs. Trip Duration\");"
   ]
  },
  {
   "cell_type": "markdown",
   "metadata": {},
   "source": [
    "***"
   ]
  },
  {
   "cell_type": "markdown",
   "metadata": {},
   "source": [
    "### Key Question\n",
    "Is there a linear relationship between trip duration (in minutes) and age of rider (with 95% confidence)?\n",
    "\n",
    "### NULL Hypothesis\n",
    "There is no linear correlation between trip duration and age of rider.\n",
    "\n",
    "### Alternative Hypothesis\n",
    "There is a some linear correlation between trip duration and age of rider (with 95% confidence). "
   ]
  },
  {
   "cell_type": "code",
   "execution_count": 161,
   "metadata": {},
   "outputs": [
    {
     "name": "stdout",
     "output_type": "stream",
     "text": [
      "Pearson Correlation Coefficient: 0.017\n",
      "2 tailed p-value: 0.588\n"
     ]
    }
   ],
   "source": [
    "# Run Pearson Correlation Test\n",
    "pearson = stats.pearsonr(ADS.age, ADS.tripduration)\n",
    "\n",
    "print(\"Pearson Correlation Coefficient: %.3f\" % pearson[0])\n",
    "print(\"2 tailed p-value: %.3f\" % pearson[1])"
   ]
  },
  {
   "cell_type": "markdown",
   "metadata": {},
   "source": [
    "### Observation of Pearson Test\n",
    "The p-value is over 5%. Therefore, we cannot rejest the NULL hypothesis. In other words, there is no statistical **linear** relationship between trip duration and Age of riders.\n",
    "***"
   ]
  },
  {
   "cell_type": "markdown",
   "metadata": {},
   "source": [
    "### Key Question\n",
    "Is there a non-linear relationship between trip duration (in minutes) and age of rider (with 95% confidence)?\n",
    "\n",
    "### NULL Hypothesis\n",
    "There is no non-linear correlation between trip duration and age of rider.\n",
    "\n",
    "### Alternative Hypothesis\n",
    "There is a some non-linear correlation between trip duration and age of rider (with 95% confidence). "
   ]
  },
  {
   "cell_type": "code",
   "execution_count": 165,
   "metadata": {},
   "outputs": [
    {
     "name": "stdout",
     "output_type": "stream",
     "text": [
      "Spearman Correlation Coefficient: -0.059\n",
      "2 tailed p-value: 0.06313\n"
     ]
    }
   ],
   "source": [
    "# Run Spearman's Test\n",
    "spearman = stats.spearmanr(ADS.age, ADS.tripduration)\n",
    "\n",
    "print(\"Spearman Correlation Coefficient: %.3f\" % spearman[0])\n",
    "print(\"2 tailed p-value: %.5f\" % spearman[1])"
   ]
  },
  {
   "cell_type": "markdown",
   "metadata": {},
   "source": [
    "### Observation of Spearman's Test\n",
    "The p-value is over 5%. Therefore, we cannot rejest the NULL hypothesis. In other words, there is no statistical **non-linear** relationship between trip duration and Age of riders.\n",
    "\n",
    "***"
   ]
  },
  {
   "cell_type": "markdown",
   "metadata": {},
   "source": [
    "### Key Question\n",
    "Do the trip duration and age of rider have similar distribution (with 95% confidence)?\n",
    "\n",
    "### NULL Hypothesis\n",
    "The trip duration and age of rider do not have similar distribution.\n",
    "\n",
    "### Alternative Hypothesis\n",
    "The trip duration and age of rider have similar distribution (with 95% confidence)."
   ]
  },
  {
   "cell_type": "code",
   "execution_count": 164,
   "metadata": {},
   "outputs": [
    {
     "name": "stdout",
     "output_type": "stream",
     "text": [
      "KS Correlation Coefficient: 0.999\n",
      "2 tailed p-value: 0.000\n"
     ]
    }
   ],
   "source": [
    "# Run KS Test\n",
    "\n",
    "ks = stats.ks_2samp(ADS.age, ADS.tripduration)\n",
    "print(\"KS Correlation Coefficient: %.3f\" % ks[0])\n",
    "print(\"2 tailed p-value: %.3f\" % ks[1])"
   ]
  },
  {
   "cell_type": "markdown",
   "metadata": {},
   "source": [
    "### Observation of Spearman's Test\n",
    "The p-value is lower than 5%. Therefore, we can reject the NULL hypothesis. In other words, trip duration and age of rider have the similar underlying distribution."
   ]
  }
 ],
 "metadata": {
  "kernelspec": {
   "display_name": "Python 3",
   "language": "python",
   "name": "python3"
  },
  "language_info": {
   "codemirror_mode": {
    "name": "ipython",
    "version": 3
   },
   "file_extension": ".py",
   "mimetype": "text/x-python",
   "name": "python",
   "nbconvert_exporter": "python",
   "pygments_lexer": "ipython3",
   "version": "3.6.2"
  }
 },
 "nbformat": 4,
 "nbformat_minor": 2
}
