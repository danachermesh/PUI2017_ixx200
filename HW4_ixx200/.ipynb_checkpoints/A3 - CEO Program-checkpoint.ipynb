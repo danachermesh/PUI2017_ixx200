{
 "cells": [
  {
   "cell_type": "markdown",
   "metadata": {},
   "source": [
    "### Perform The following Statistical Tests to Understand the Impact of CEO Program on Recidivism\n",
    "- Z Test\n",
    "- Chi-sq\n",
    "\n",
    "### NULL Hypothesis\n",
    "The CEO program does not impact the number of people from being convicted within 1-3 years after the program completion."
   ]
  },
  {
   "cell_type": "code",
   "execution_count": 5,
   "metadata": {
    "collapsed": true
   },
   "outputs": [],
   "source": [
    "import numpy as np"
   ]
  },
  {
   "cell_type": "code",
   "execution_count": 9,
   "metadata": {
    "collapsed": true
   },
   "outputs": [],
   "source": [
    "# Test and Control Group Stats of Felony Conviction within 1-3 years of CEO program\n",
    "# 1 - Test Group; 0 - Control Group\n",
    "n_1 = 568\n",
    "n_0 = 409\n",
    "\n",
    "p_1 = 0.1\n",
    "p_0 = 0.117"
   ]
  },
  {
   "cell_type": "markdown",
   "metadata": {},
   "source": [
    "| Convicted a Falony within 1-3 Years of CEO | Yes | No | Total |\n",
    "| ------------------ | ---- | ------- |\n",
    "|**Test Group** |57|511|568|\n",
    "|**Control Group**| 48|361|409|\n",
    "|**Total**|105|872|**977**|"
   ]
  },
  {
   "cell_type": "markdown",
   "metadata": {},
   "source": [
    "### Z Test"
   ]
  },
  {
   "cell_type": "code",
   "execution_count": 16,
   "metadata": {},
   "outputs": [
    {
     "name": "stdout",
     "output_type": "stream",
     "text": [
      "0.1071166837256909\n",
      "0.0200556791612\n",
      "Z-Sore: -0.848\n"
     ]
    }
   ],
   "source": [
    "p = lambda p0, p1, n0, n1: (p0 * n0 + p1 * n1) / (n0 + n1)\n",
    "se = lambda p, n0, n1: np.sqrt(p * (1 - p) * (1.0 / n0 + 1.0 / n1))\n",
    "zscore = lambda p0, p1, s : (p0 - p1) / s\n",
    "\n",
    "print(p(p_0, p_1, n_0, n_1))\n",
    "print(se(p(p_0, p_1, n_0, n_1), n_0, n_1))\n",
    "print(\"Z-Sore: %.3f\" % zscore(p_1, p_0, se(p(p_0, p_1, n_0, n_1), n_0, n_1)))\n"
   ]
  },
  {
   "cell_type": "markdown",
   "metadata": {},
   "source": [
    "Based on the Z-Score Table, Z = -0.848 translate to p = 0.7995 (92.1% confidence). Therefore, given a confidence requirement of 95%, we are not confident enough to reject the NULL hypothesis."
   ]
  },
  {
   "cell_type": "markdown",
   "metadata": {},
   "source": [
    "### Chi Square Test"
   ]
  },
  {
   "cell_type": "code",
   "execution_count": 17,
   "metadata": {},
   "outputs": [
    {
     "ename": "ModuleNotFoundError",
     "evalue": "No module named 'evalChisq'",
     "output_type": "error",
     "traceback": [
      "\u001b[0;31m---------------------------------------------------------------------------\u001b[0m",
      "\u001b[0;31mModuleNotFoundError\u001b[0m                       Traceback (most recent call last)",
      "\u001b[0;32m<ipython-input-17-ea8364a48dbe>\u001b[0m in \u001b[0;36m<module>\u001b[0;34m()\u001b[0m\n\u001b[0;32m----> 1\u001b[0;31m \u001b[0;32mfrom\u001b[0m \u001b[0mevalChisq\u001b[0m \u001b[0;32mimport\u001b[0m \u001b[0mevalChisq\u001b[0m\u001b[0;34m\u001b[0m\u001b[0m\n\u001b[0m",
      "\u001b[0;31mModuleNotFoundError\u001b[0m: No module named 'evalChisq'"
     ]
    }
   ],
   "source": [
    "from evalChisq import evalChisq "
   ]
  }
 ],
 "metadata": {
  "kernelspec": {
   "display_name": "Python 3",
   "language": "python",
   "name": "python3"
  },
  "language_info": {
   "codemirror_mode": {
    "name": "ipython",
    "version": 3
   },
   "file_extension": ".py",
   "mimetype": "text/x-python",
   "name": "python",
   "nbconvert_exporter": "python",
   "pygments_lexer": "ipython3",
   "version": "3.6.2"
  }
 },
 "nbformat": 4,
 "nbformat_minor": 2
}
