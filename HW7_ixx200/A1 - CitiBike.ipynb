{
 "cells": [
  {
   "cell_type": "markdown",
   "metadata": {},
   "source": [
    "# Assignment 1: CitiBike Hypothesis Testing (Continued)"
   ]
  },
  {
   "cell_type": "markdown",
   "metadata": {},
   "source": [
    "### Peer Review Feedback from Yu (yc3300)\n",
    "\n",
    "- verify that their Null and alternative hypotheses are formulated correctly Ian's null hypothesis sounds reasonable, and the alternate hypothesis corresponds correctly to the null hypothesis. But in order to keep synchronization,maybe the null hypothesis should also include information(measurements) like in seconds. His topic is overall very general, more specific information like whether it's weekdays or weekends could be added, or male subscriber and female subscriber. \n",
    "\n",
    "- The data has the appropriate features to answer the question (duration time and gender)\n",
    "\n",
    "- This is a question of comparing two unknown sample means, therefore I will consider Z-test or t-test. In Ian's answer, he already used Z-test to answer the hypothesis. His solution is clear and reasonable.\n",
    "\n",
    "### Author Comments\n",
    "\n",
    "I agree with Yu that the measurement unit should be added to the Null Hypothesis so it is more specific. Analyzing the duration by weeekend and weekday is an alternative to comparing between gender. However, this is beyond the scope of this analysis and can be easily done by replacing gender with day features using the same statistical test mechanics. "
   ]
  },
  {
   "cell_type": "markdown",
   "metadata": {},
   "source": [
    "---"
   ]
  },
  {
   "cell_type": "code",
   "execution_count": 1,
   "metadata": {
    "scrolled": true
   },
   "outputs": [
    {
     "name": "stdout",
     "output_type": "stream",
     "text": [
      "Populating the interactive namespace from numpy and matplotlib\n"
     ]
    },
    {
     "name": "stderr",
     "output_type": "stream",
     "text": [
      "/Users/Ian/anaconda/lib/python2.7/site-packages/IPython/core/magics/pylab.py:161: UserWarning: pylab import has clobbered these variables: ['plt']\n",
      "`%matplotlib` prevents importing * from pylab and numpy\n",
      "  \"\\n`%matplotlib` prevents importing * from pylab and numpy\"\n"
     ]
    }
   ],
   "source": [
    "import pandas as pd\n",
    "import numpy as np\n",
    "import matplotlib.pylab as plt\n",
    "%pylab inline"
   ]
  },
  {
   "cell_type": "code",
   "execution_count": 2,
   "metadata": {
    "collapsed": true
   },
   "outputs": [],
   "source": [
    "path = \"https://s3.amazonaws.com/tripdata/JC-201707-citibike-tripdata.csv.zip\"\n",
    "df = pd.read_csv(path, compression='zip')"
   ]
  },
  {
   "cell_type": "code",
   "execution_count": 3,
   "metadata": {
    "scrolled": false
   },
   "outputs": [
    {
     "data": {
      "text/html": [
       "<div>\n",
       "<style>\n",
       "    .dataframe thead tr:only-child th {\n",
       "        text-align: right;\n",
       "    }\n",
       "\n",
       "    .dataframe thead th {\n",
       "        text-align: left;\n",
       "    }\n",
       "\n",
       "    .dataframe tbody tr th {\n",
       "        vertical-align: top;\n",
       "    }\n",
       "</style>\n",
       "<table border=\"1\" class=\"dataframe\">\n",
       "  <thead>\n",
       "    <tr style=\"text-align: right;\">\n",
       "      <th></th>\n",
       "      <th>tripduration</th>\n",
       "      <th>starttime</th>\n",
       "      <th>stoptime</th>\n",
       "      <th>start station id</th>\n",
       "      <th>start station name</th>\n",
       "      <th>start station latitude</th>\n",
       "      <th>start station longitude</th>\n",
       "      <th>end station id</th>\n",
       "      <th>end station name</th>\n",
       "      <th>end station latitude</th>\n",
       "      <th>end station longitude</th>\n",
       "      <th>bikeid</th>\n",
       "      <th>usertype</th>\n",
       "      <th>birth year</th>\n",
       "      <th>gender</th>\n",
       "    </tr>\n",
       "  </thead>\n",
       "  <tbody>\n",
       "    <tr>\n",
       "      <th>0</th>\n",
       "      <td>340</td>\n",
       "      <td>2017-07-01 00:00:08</td>\n",
       "      <td>2017-07-01 00:05:48</td>\n",
       "      <td>3186</td>\n",
       "      <td>Grove St PATH</td>\n",
       "      <td>40.719586</td>\n",
       "      <td>-74.043117</td>\n",
       "      <td>3267</td>\n",
       "      <td>Morris Canal</td>\n",
       "      <td>40.712419</td>\n",
       "      <td>-74.038526</td>\n",
       "      <td>29643</td>\n",
       "      <td>Subscriber</td>\n",
       "      <td>1994.0</td>\n",
       "      <td>2</td>\n",
       "    </tr>\n",
       "    <tr>\n",
       "      <th>1</th>\n",
       "      <td>439</td>\n",
       "      <td>2017-07-01 00:02:35</td>\n",
       "      <td>2017-07-01 00:09:55</td>\n",
       "      <td>3183</td>\n",
       "      <td>Exchange Place</td>\n",
       "      <td>40.716247</td>\n",
       "      <td>-74.033459</td>\n",
       "      <td>3199</td>\n",
       "      <td>Newport Pkwy</td>\n",
       "      <td>40.728745</td>\n",
       "      <td>-74.032108</td>\n",
       "      <td>29585</td>\n",
       "      <td>Subscriber</td>\n",
       "      <td>1980.0</td>\n",
       "      <td>1</td>\n",
       "    </tr>\n",
       "    <tr>\n",
       "      <th>2</th>\n",
       "      <td>186</td>\n",
       "      <td>2017-07-01 00:04:33</td>\n",
       "      <td>2017-07-01 00:07:40</td>\n",
       "      <td>3186</td>\n",
       "      <td>Grove St PATH</td>\n",
       "      <td>40.719586</td>\n",
       "      <td>-74.043117</td>\n",
       "      <td>3270</td>\n",
       "      <td>Jersey &amp; 6th St</td>\n",
       "      <td>40.725289</td>\n",
       "      <td>-74.045572</td>\n",
       "      <td>29219</td>\n",
       "      <td>Subscriber</td>\n",
       "      <td>1984.0</td>\n",
       "      <td>1</td>\n",
       "    </tr>\n",
       "    <tr>\n",
       "      <th>3</th>\n",
       "      <td>442</td>\n",
       "      <td>2017-07-01 00:05:53</td>\n",
       "      <td>2017-07-01 00:13:15</td>\n",
       "      <td>3195</td>\n",
       "      <td>Sip Ave</td>\n",
       "      <td>40.730743</td>\n",
       "      <td>-74.063784</td>\n",
       "      <td>3193</td>\n",
       "      <td>Lincoln Park</td>\n",
       "      <td>40.724605</td>\n",
       "      <td>-74.078406</td>\n",
       "      <td>29497</td>\n",
       "      <td>Subscriber</td>\n",
       "      <td>1969.0</td>\n",
       "      <td>1</td>\n",
       "    </tr>\n",
       "    <tr>\n",
       "      <th>4</th>\n",
       "      <td>170</td>\n",
       "      <td>2017-07-01 00:07:54</td>\n",
       "      <td>2017-07-01 00:10:45</td>\n",
       "      <td>3187</td>\n",
       "      <td>Warren St</td>\n",
       "      <td>40.721124</td>\n",
       "      <td>-74.038051</td>\n",
       "      <td>3186</td>\n",
       "      <td>Grove St PATH</td>\n",
       "      <td>40.719586</td>\n",
       "      <td>-74.043117</td>\n",
       "      <td>29483</td>\n",
       "      <td>Subscriber</td>\n",
       "      <td>1986.0</td>\n",
       "      <td>1</td>\n",
       "    </tr>\n",
       "    <tr>\n",
       "      <th>5</th>\n",
       "      <td>189</td>\n",
       "      <td>2017-07-01 00:08:06</td>\n",
       "      <td>2017-07-01 00:11:16</td>\n",
       "      <td>3187</td>\n",
       "      <td>Warren St</td>\n",
       "      <td>40.721124</td>\n",
       "      <td>-74.038051</td>\n",
       "      <td>3186</td>\n",
       "      <td>Grove St PATH</td>\n",
       "      <td>40.719586</td>\n",
       "      <td>-74.043117</td>\n",
       "      <td>29477</td>\n",
       "      <td>Subscriber</td>\n",
       "      <td>1990.0</td>\n",
       "      <td>1</td>\n",
       "    </tr>\n",
       "    <tr>\n",
       "      <th>6</th>\n",
       "      <td>421</td>\n",
       "      <td>2017-07-01 00:09:03</td>\n",
       "      <td>2017-07-01 00:16:04</td>\n",
       "      <td>3267</td>\n",
       "      <td>Morris Canal</td>\n",
       "      <td>40.712419</td>\n",
       "      <td>-74.038526</td>\n",
       "      <td>3202</td>\n",
       "      <td>Newport PATH</td>\n",
       "      <td>40.727224</td>\n",
       "      <td>-74.033759</td>\n",
       "      <td>29643</td>\n",
       "      <td>Subscriber</td>\n",
       "      <td>1985.0</td>\n",
       "      <td>2</td>\n",
       "    </tr>\n",
       "    <tr>\n",
       "      <th>7</th>\n",
       "      <td>494</td>\n",
       "      <td>2017-07-01 00:14:10</td>\n",
       "      <td>2017-07-01 00:22:25</td>\n",
       "      <td>3202</td>\n",
       "      <td>Newport PATH</td>\n",
       "      <td>40.727224</td>\n",
       "      <td>-74.033759</td>\n",
       "      <td>3269</td>\n",
       "      <td>Brunswick &amp; 6th</td>\n",
       "      <td>40.726012</td>\n",
       "      <td>-74.050389</td>\n",
       "      <td>29505</td>\n",
       "      <td>Subscriber</td>\n",
       "      <td>1984.0</td>\n",
       "      <td>1</td>\n",
       "    </tr>\n",
       "    <tr>\n",
       "      <th>8</th>\n",
       "      <td>152</td>\n",
       "      <td>2017-07-01 00:20:25</td>\n",
       "      <td>2017-07-01 00:22:58</td>\n",
       "      <td>3211</td>\n",
       "      <td>Newark Ave</td>\n",
       "      <td>40.721525</td>\n",
       "      <td>-74.046305</td>\n",
       "      <td>3278</td>\n",
       "      <td>Monmouth and 6th</td>\n",
       "      <td>40.725685</td>\n",
       "      <td>-74.048790</td>\n",
       "      <td>26159</td>\n",
       "      <td>Subscriber</td>\n",
       "      <td>1972.0</td>\n",
       "      <td>1</td>\n",
       "    </tr>\n",
       "    <tr>\n",
       "      <th>9</th>\n",
       "      <td>537</td>\n",
       "      <td>2017-07-01 00:29:22</td>\n",
       "      <td>2017-07-01 00:38:19</td>\n",
       "      <td>3199</td>\n",
       "      <td>Newport Pkwy</td>\n",
       "      <td>40.728745</td>\n",
       "      <td>-74.032108</td>\n",
       "      <td>3209</td>\n",
       "      <td>Brunswick St</td>\n",
       "      <td>40.724176</td>\n",
       "      <td>-74.050656</td>\n",
       "      <td>26170</td>\n",
       "      <td>Subscriber</td>\n",
       "      <td>1994.0</td>\n",
       "      <td>1</td>\n",
       "    </tr>\n",
       "  </tbody>\n",
       "</table>\n",
       "</div>"
      ],
      "text/plain": [
       "   tripduration            starttime             stoptime  start station id  \\\n",
       "0           340  2017-07-01 00:00:08  2017-07-01 00:05:48              3186   \n",
       "1           439  2017-07-01 00:02:35  2017-07-01 00:09:55              3183   \n",
       "2           186  2017-07-01 00:04:33  2017-07-01 00:07:40              3186   \n",
       "3           442  2017-07-01 00:05:53  2017-07-01 00:13:15              3195   \n",
       "4           170  2017-07-01 00:07:54  2017-07-01 00:10:45              3187   \n",
       "5           189  2017-07-01 00:08:06  2017-07-01 00:11:16              3187   \n",
       "6           421  2017-07-01 00:09:03  2017-07-01 00:16:04              3267   \n",
       "7           494  2017-07-01 00:14:10  2017-07-01 00:22:25              3202   \n",
       "8           152  2017-07-01 00:20:25  2017-07-01 00:22:58              3211   \n",
       "9           537  2017-07-01 00:29:22  2017-07-01 00:38:19              3199   \n",
       "\n",
       "  start station name  start station latitude  start station longitude  \\\n",
       "0      Grove St PATH               40.719586               -74.043117   \n",
       "1     Exchange Place               40.716247               -74.033459   \n",
       "2      Grove St PATH               40.719586               -74.043117   \n",
       "3            Sip Ave               40.730743               -74.063784   \n",
       "4          Warren St               40.721124               -74.038051   \n",
       "5          Warren St               40.721124               -74.038051   \n",
       "6       Morris Canal               40.712419               -74.038526   \n",
       "7       Newport PATH               40.727224               -74.033759   \n",
       "8         Newark Ave               40.721525               -74.046305   \n",
       "9       Newport Pkwy               40.728745               -74.032108   \n",
       "\n",
       "   end station id  end station name  end station latitude  \\\n",
       "0            3267      Morris Canal             40.712419   \n",
       "1            3199      Newport Pkwy             40.728745   \n",
       "2            3270   Jersey & 6th St             40.725289   \n",
       "3            3193      Lincoln Park             40.724605   \n",
       "4            3186     Grove St PATH             40.719586   \n",
       "5            3186     Grove St PATH             40.719586   \n",
       "6            3202      Newport PATH             40.727224   \n",
       "7            3269   Brunswick & 6th             40.726012   \n",
       "8            3278  Monmouth and 6th             40.725685   \n",
       "9            3209      Brunswick St             40.724176   \n",
       "\n",
       "   end station longitude  bikeid    usertype  birth year  gender  \n",
       "0             -74.038526   29643  Subscriber      1994.0       2  \n",
       "1             -74.032108   29585  Subscriber      1980.0       1  \n",
       "2             -74.045572   29219  Subscriber      1984.0       1  \n",
       "3             -74.078406   29497  Subscriber      1969.0       1  \n",
       "4             -74.043117   29483  Subscriber      1986.0       1  \n",
       "5             -74.043117   29477  Subscriber      1990.0       1  \n",
       "6             -74.033759   29643  Subscriber      1985.0       2  \n",
       "7             -74.050389   29505  Subscriber      1984.0       1  \n",
       "8             -74.048790   26159  Subscriber      1972.0       1  \n",
       "9             -74.050656   26170  Subscriber      1994.0       1  "
      ]
     },
     "execution_count": 3,
     "metadata": {},
     "output_type": "execute_result"
    }
   ],
   "source": [
    "df.head(10)"
   ]
  },
  {
   "cell_type": "markdown",
   "metadata": {},
   "source": [
    "### High Level Data Exploration"
   ]
  },
  {
   "cell_type": "code",
   "execution_count": 5,
   "metadata": {},
   "outputs": [
    {
     "name": "stdout",
     "output_type": "stream",
     "text": [
      "There are 33573 samples in this dataset. \n"
     ]
    }
   ],
   "source": [
    "print(\"There are %i samples in this dataset. \" % df.shape[0])"
   ]
  },
  {
   "cell_type": "code",
   "execution_count": 7,
   "metadata": {},
   "outputs": [
    {
     "data": {
      "text/html": [
       "<div>\n",
       "<style>\n",
       "    .dataframe thead tr:only-child th {\n",
       "        text-align: right;\n",
       "    }\n",
       "\n",
       "    .dataframe thead th {\n",
       "        text-align: left;\n",
       "    }\n",
       "\n",
       "    .dataframe tbody tr th {\n",
       "        vertical-align: top;\n",
       "    }\n",
       "</style>\n",
       "<table border=\"1\" class=\"dataframe\">\n",
       "  <thead>\n",
       "    <tr style=\"text-align: right;\">\n",
       "      <th></th>\n",
       "      <th>tripduration</th>\n",
       "      <th>start station id</th>\n",
       "      <th>start station latitude</th>\n",
       "      <th>start station longitude</th>\n",
       "      <th>end station id</th>\n",
       "      <th>end station latitude</th>\n",
       "      <th>end station longitude</th>\n",
       "      <th>bikeid</th>\n",
       "      <th>birth year</th>\n",
       "      <th>gender</th>\n",
       "      <th>age</th>\n",
       "    </tr>\n",
       "  </thead>\n",
       "  <tbody>\n",
       "    <tr>\n",
       "      <th>count</th>\n",
       "      <td>33573.000000</td>\n",
       "      <td>33573.000000</td>\n",
       "      <td>33573.000000</td>\n",
       "      <td>33573.000000</td>\n",
       "      <td>33573.000000</td>\n",
       "      <td>33573.000000</td>\n",
       "      <td>33573.000000</td>\n",
       "      <td>33573.000000</td>\n",
       "      <td>30613.000000</td>\n",
       "      <td>33573.000000</td>\n",
       "      <td>30613.000000</td>\n",
       "    </tr>\n",
       "    <tr>\n",
       "      <th>mean</th>\n",
       "      <td>767.952313</td>\n",
       "      <td>3215.375748</td>\n",
       "      <td>40.722388</td>\n",
       "      <td>-74.046067</td>\n",
       "      <td>3211.434397</td>\n",
       "      <td>40.721945</td>\n",
       "      <td>-74.045550</td>\n",
       "      <td>28300.428469</td>\n",
       "      <td>1980.348806</td>\n",
       "      <td>1.121645</td>\n",
       "      <td>36.651194</td>\n",
       "    </tr>\n",
       "    <tr>\n",
       "      <th>std</th>\n",
       "      <td>4038.930644</td>\n",
       "      <td>33.843146</td>\n",
       "      <td>0.007892</td>\n",
       "      <td>0.010625</td>\n",
       "      <td>79.019466</td>\n",
       "      <td>0.007731</td>\n",
       "      <td>0.010726</td>\n",
       "      <td>1646.539891</td>\n",
       "      <td>9.983384</td>\n",
       "      <td>0.538774</td>\n",
       "      <td>9.983384</td>\n",
       "    </tr>\n",
       "    <tr>\n",
       "      <th>min</th>\n",
       "      <td>61.000000</td>\n",
       "      <td>3183.000000</td>\n",
       "      <td>40.692640</td>\n",
       "      <td>-74.096937</td>\n",
       "      <td>152.000000</td>\n",
       "      <td>40.692640</td>\n",
       "      <td>-74.096937</td>\n",
       "      <td>14529.000000</td>\n",
       "      <td>1887.000000</td>\n",
       "      <td>0.000000</td>\n",
       "      <td>16.000000</td>\n",
       "    </tr>\n",
       "    <tr>\n",
       "      <th>25%</th>\n",
       "      <td>248.000000</td>\n",
       "      <td>3187.000000</td>\n",
       "      <td>40.716540</td>\n",
       "      <td>-74.050389</td>\n",
       "      <td>3186.000000</td>\n",
       "      <td>40.716247</td>\n",
       "      <td>-74.049638</td>\n",
       "      <td>26275.000000</td>\n",
       "      <td>1975.000000</td>\n",
       "      <td>1.000000</td>\n",
       "      <td>29.000000</td>\n",
       "    </tr>\n",
       "    <tr>\n",
       "      <th>50%</th>\n",
       "      <td>384.000000</td>\n",
       "      <td>3203.000000</td>\n",
       "      <td>40.721124</td>\n",
       "      <td>-74.043991</td>\n",
       "      <td>3202.000000</td>\n",
       "      <td>40.719586</td>\n",
       "      <td>-74.043117</td>\n",
       "      <td>29266.000000</td>\n",
       "      <td>1983.000000</td>\n",
       "      <td>1.000000</td>\n",
       "      <td>34.000000</td>\n",
       "    </tr>\n",
       "    <tr>\n",
       "      <th>75%</th>\n",
       "      <td>676.000000</td>\n",
       "      <td>3225.000000</td>\n",
       "      <td>40.727224</td>\n",
       "      <td>-74.038526</td>\n",
       "      <td>3214.000000</td>\n",
       "      <td>40.727224</td>\n",
       "      <td>-74.038051</td>\n",
       "      <td>29521.000000</td>\n",
       "      <td>1988.000000</td>\n",
       "      <td>1.000000</td>\n",
       "      <td>42.000000</td>\n",
       "    </tr>\n",
       "    <tr>\n",
       "      <th>max</th>\n",
       "      <td>485426.000000</td>\n",
       "      <td>3281.000000</td>\n",
       "      <td>40.752559</td>\n",
       "      <td>-74.032108</td>\n",
       "      <td>3474.000000</td>\n",
       "      <td>40.777507</td>\n",
       "      <td>-73.967510</td>\n",
       "      <td>29682.000000</td>\n",
       "      <td>2001.000000</td>\n",
       "      <td>2.000000</td>\n",
       "      <td>130.000000</td>\n",
       "    </tr>\n",
       "  </tbody>\n",
       "</table>\n",
       "</div>"
      ],
      "text/plain": [
       "        tripduration  start station id  start station latitude  \\\n",
       "count   33573.000000      33573.000000            33573.000000   \n",
       "mean      767.952313       3215.375748               40.722388   \n",
       "std      4038.930644         33.843146                0.007892   \n",
       "min        61.000000       3183.000000               40.692640   \n",
       "25%       248.000000       3187.000000               40.716540   \n",
       "50%       384.000000       3203.000000               40.721124   \n",
       "75%       676.000000       3225.000000               40.727224   \n",
       "max    485426.000000       3281.000000               40.752559   \n",
       "\n",
       "       start station longitude  end station id  end station latitude  \\\n",
       "count             33573.000000    33573.000000          33573.000000   \n",
       "mean                -74.046067     3211.434397             40.721945   \n",
       "std                   0.010625       79.019466              0.007731   \n",
       "min                 -74.096937      152.000000             40.692640   \n",
       "25%                 -74.050389     3186.000000             40.716247   \n",
       "50%                 -74.043991     3202.000000             40.719586   \n",
       "75%                 -74.038526     3214.000000             40.727224   \n",
       "max                 -74.032108     3474.000000             40.777507   \n",
       "\n",
       "       end station longitude        bikeid    birth year        gender  \\\n",
       "count           33573.000000  33573.000000  30613.000000  33573.000000   \n",
       "mean              -74.045550  28300.428469   1980.348806      1.121645   \n",
       "std                 0.010726   1646.539891      9.983384      0.538774   \n",
       "min               -74.096937  14529.000000   1887.000000      0.000000   \n",
       "25%               -74.049638  26275.000000   1975.000000      1.000000   \n",
       "50%               -74.043117  29266.000000   1983.000000      1.000000   \n",
       "75%               -74.038051  29521.000000   1988.000000      1.000000   \n",
       "max               -73.967510  29682.000000   2001.000000      2.000000   \n",
       "\n",
       "                age  \n",
       "count  30613.000000  \n",
       "mean      36.651194  \n",
       "std        9.983384  \n",
       "min       16.000000  \n",
       "25%       29.000000  \n",
       "50%       34.000000  \n",
       "75%       42.000000  \n",
       "max      130.000000  "
      ]
     },
     "execution_count": 7,
     "metadata": {},
     "output_type": "execute_result"
    }
   ],
   "source": [
    "df[\"age\"] = 2017 - df[\"birth year\"]\n",
    "df.describe()"
   ]
  },
  {
   "cell_type": "code",
   "execution_count": 27,
   "metadata": {},
   "outputs": [
    {
     "data": {
      "text/plain": [
       "gender\n",
       "0     3079\n",
       "1    23331\n",
       "2     7163\n",
       "Name: gender, dtype: int64"
      ]
     },
     "execution_count": 27,
     "metadata": {},
     "output_type": "execute_result"
    }
   ],
   "source": [
    "# What is the count breakdown of each gender?\n",
    "\n",
    "df['gender'].groupby(df['gender']).count()"
   ]
  },
  {
   "cell_type": "code",
   "execution_count": 7,
   "metadata": {},
   "outputs": [
    {
     "data": {
      "text/html": [
       "<div>\n",
       "<style>\n",
       "    .dataframe thead tr:only-child th {\n",
       "        text-align: right;\n",
       "    }\n",
       "\n",
       "    .dataframe thead th {\n",
       "        text-align: left;\n",
       "    }\n",
       "\n",
       "    .dataframe tbody tr th {\n",
       "        vertical-align: top;\n",
       "    }\n",
       "</style>\n",
       "<table border=\"1\" class=\"dataframe\">\n",
       "  <thead>\n",
       "    <tr style=\"text-align: right;\">\n",
       "      <th></th>\n",
       "      <th>age</th>\n",
       "      <th>tripduration</th>\n",
       "    </tr>\n",
       "  </thead>\n",
       "  <tbody>\n",
       "    <tr>\n",
       "      <th>0</th>\n",
       "      <td>23.0</td>\n",
       "      <td>340</td>\n",
       "    </tr>\n",
       "    <tr>\n",
       "      <th>1</th>\n",
       "      <td>37.0</td>\n",
       "      <td>439</td>\n",
       "    </tr>\n",
       "    <tr>\n",
       "      <th>2</th>\n",
       "      <td>33.0</td>\n",
       "      <td>186</td>\n",
       "    </tr>\n",
       "    <tr>\n",
       "      <th>3</th>\n",
       "      <td>48.0</td>\n",
       "      <td>442</td>\n",
       "    </tr>\n",
       "    <tr>\n",
       "      <th>4</th>\n",
       "      <td>31.0</td>\n",
       "      <td>170</td>\n",
       "    </tr>\n",
       "    <tr>\n",
       "      <th>5</th>\n",
       "      <td>27.0</td>\n",
       "      <td>189</td>\n",
       "    </tr>\n",
       "    <tr>\n",
       "      <th>6</th>\n",
       "      <td>32.0</td>\n",
       "      <td>421</td>\n",
       "    </tr>\n",
       "    <tr>\n",
       "      <th>7</th>\n",
       "      <td>33.0</td>\n",
       "      <td>494</td>\n",
       "    </tr>\n",
       "    <tr>\n",
       "      <th>8</th>\n",
       "      <td>45.0</td>\n",
       "      <td>152</td>\n",
       "    </tr>\n",
       "    <tr>\n",
       "      <th>9</th>\n",
       "      <td>23.0</td>\n",
       "      <td>537</td>\n",
       "    </tr>\n",
       "  </tbody>\n",
       "</table>\n",
       "</div>"
      ],
      "text/plain": [
       "    age  tripduration\n",
       "0  23.0           340\n",
       "1  37.0           439\n",
       "2  33.0           186\n",
       "3  48.0           442\n",
       "4  31.0           170\n",
       "5  27.0           189\n",
       "6  32.0           421\n",
       "7  33.0           494\n",
       "8  45.0           152\n",
       "9  23.0           537"
      ]
     },
     "execution_count": 7,
     "metadata": {},
     "output_type": "execute_result"
    }
   ],
   "source": [
    "df[\"age\"] = 2017 - df[\"birth year\"]\n",
    "age_tripDuration = df[[\"age\", \"tripduration\"]]\n",
    "age_tripDuration.head(10)"
   ]
  },
  {
   "cell_type": "code",
   "execution_count": 71,
   "metadata": {},
   "outputs": [
    {
     "data": {
      "image/png": "[encoded data removed]",
      "text/plain": [
       "<matplotlib.figure.Figure at 0x11291f150>"
      ]
     },
     "metadata": {},
     "output_type": "display_data"
    }
   ],
   "source": [
    "fig = plt.figure(figsize = (10,10));\n",
    "plt.plot(age_tripDuration.age, age_tripDuration.tripduration, \"o\", alpha = 0.5);\n",
    "plt.xlabel(\"Age\", size = 12);\n",
    "plt.ylabel(\"Trip Duration(seconds)\", size = 12);\n",
    "plt.title(\"Rider Age vs. Trip Duration(seconds)\", size = 18);\n",
    "\n",
    "plt.savefig(\"./screenshots/age_duration.png\")"
   ]
  },
  {
   "cell_type": "markdown",
   "metadata": {},
   "source": [
    "### Figure 1\n",
    "This is a scatter plot of ages of riders (x axis) and the corresponding trip duration in seconds (y axis). Although the majority of the trips are short and driven by people from 20-60 old, there are many outliers in both aspects. The age outliers might be caused by data management or user input error. Some outliers in trip duration may indicate longer usage for tourism instead of daily short commute."
   ]
  },
  {
   "cell_type": "code",
   "execution_count": 72,
   "metadata": {},
   "outputs": [
    {
     "data": {
      "image/png": "[encoded data removed]",
      "text/plain": [
       "<matplotlib.figure.Figure at 0x115645ed0>"
      ]
     },
     "metadata": {},
     "output_type": "display_data"
    }
   ],
   "source": [
    "# What is the distribution of trip duration by gender?\n",
    "\n",
    "data = df[(df.tripduration < df.tripduration.quantile(.95)) & (df.gender == 1)]\n",
    "plt.hist(data.tripduration);\n",
    "plt.xlabel(\"Trip Duration (in secs)\");\n",
    "plt.ylabel(\"Count\");\n",
    "plt.title(\"Histogram of Trip Duration (max. 95 percentile) of Male Riders\");\n",
    "plt.savefig(\"./screenshots/tripDurationMale.png\")"
   ]
  },
  {
   "cell_type": "markdown",
   "metadata": {},
   "source": [
    "### Figure 2\n",
    "This is a histogram of trip duration (max. 75 percentile) taken by male riders. Most male riders take rides less than 10 mins."
   ]
  },
  {
   "cell_type": "code",
   "execution_count": 73,
   "metadata": {},
   "outputs": [
    {
     "data": {
      "image/png": "[encoded data removed]",
      "text/plain": [
       "<matplotlib.figure.Figure at 0x112295dd0>"
      ]
     },
     "metadata": {},
     "output_type": "display_data"
    }
   ],
   "source": [
    "data = df[(df.tripduration < df.tripduration.quantile(.95)) & (df.gender == 2)]\n",
    "plt.hist(data.tripduration);\n",
    "plt.xlabel(\"Trip Duration (in secs)\");\n",
    "plt.ylabel(\"Count\");\n",
    "plt.title(\"Histogram of Trip Duration of Female Riders\");\n",
    "plt.savefig(\"./screenshots/tripDurationFemale.png\")"
   ]
  },
  {
   "cell_type": "markdown",
   "metadata": {},
   "source": [
    "### Figure 3\n",
    "This is a histogram of trip duration (max. 95 percentile) taken by female riders. There seem to be less female riders who ride around 2 mins."
   ]
  },
  {
   "cell_type": "markdown",
   "metadata": {},
   "source": [
    "## Develop Hypothesis\n",
    "\n",
    "#### Question:\n",
    "Does gender have an impact on ride duration (in secondes)?\n",
    "\n",
    "#### Null Hypothesis:\n",
    "The average trip duration of male rider is the same or longer than the ones by female riders\n",
    "\n",
    "#### Alternative Hypothesis:\n",
    "The average trip duration in seconds of male rider is lower than female riders' with a confidence threashold of 95% (Z score > 2)"
   ]
  },
  {
   "cell_type": "markdown",
   "metadata": {},
   "source": [
    "# Perform a Z Test on Data without Outliers"
   ]
  },
  {
   "cell_type": "markdown",
   "metadata": {},
   "source": [
    "<div id = \"z_value\" > $Z = \\frac{(u_f - u_m) \\sqrt N_f}{std_f}$ </div>\n",
    "where \n",
    "- $u_f$ is the mean of female trip duration\n",
    "- $u_m$ is the mean of trip duration by male riders\n",
    "- $N_f$ is the total number of observation of trips by female riders\n",
    "- $std_f$ is the standard deviation of trip duration by female riders"
   ]
  },
  {
   "cell_type": "code",
   "execution_count": 65,
   "metadata": {
    "collapsed": true,
    "scrolled": true
   },
   "outputs": [],
   "source": [
    "# Calculate Z test variables by excluding outliers in trip duration.\n",
    "\n",
    "quntile = 0.95\n",
    "\n",
    "meanDurationM = df.loc[(df.tripduration < df.tripduration.quantile(quntile)) & (df.gender == 1)]['tripduration'].mean()\n",
    "meanDurationF = df.loc[(df.tripduration < df.tripduration.quantile(quntile)) & (df.gender == 2)]['tripduration'].mean()\n",
    "N = len(df.loc[(df.tripduration < df.tripduration.quantile(quntile)) & (df.gender == 2)]['tripduration'])\n",
    "std = df.loc[(df.tripduration < df.tripduration.quantile(quntile)) & (df.gender == 2)]['tripduration'].std()\n",
    "\n",
    "z = (meanDurationF-meanDurationM)*np.sqrt(N)/std"
   ]
  },
  {
   "cell_type": "code",
   "execution_count": 66,
   "metadata": {},
   "outputs": [
    {
     "name": "stdout",
     "output_type": "stream",
     "text": [
      "the average duration for male: 456.14179402\n"
     ]
    }
   ],
   "source": [
    "print(\"the average duration for male: \" + str(meanDurationM))"
   ]
  },
  {
   "cell_type": "code",
   "execution_count": 67,
   "metadata": {},
   "outputs": [
    {
     "name": "stdout",
     "output_type": "stream",
     "text": [
      "the average duration for female: 488.326435442\n"
     ]
    }
   ],
   "source": [
    "print(\"the average duration for female: \" + str(meanDurationF))"
   ]
  },
  {
   "cell_type": "code",
   "execution_count": 68,
   "metadata": {
    "scrolled": true
   },
   "outputs": [
    {
     "name": "stdout",
     "output_type": "stream",
     "text": [
      "the number of trips by female: 6862\n"
     ]
    }
   ],
   "source": [
    "print(\"the number of trips by female: \" + str(N))"
   ]
  },
  {
   "cell_type": "code",
   "execution_count": 69,
   "metadata": {},
   "outputs": [
    {
     "name": "stdout",
     "output_type": "stream",
     "text": [
      "the standard deviation: 338.09037031\n"
     ]
    }
   ],
   "source": [
    "print(\"the standard deviation: \" + str(std))"
   ]
  },
  {
   "cell_type": "code",
   "execution_count": 70,
   "metadata": {},
   "outputs": [
    {
     "name": "stdout",
     "output_type": "stream",
     "text": [
      "The Z-Value is: 7.8857177888\n"
     ]
    }
   ],
   "source": [
    "print(\"The Z-Value is: \" + str(z))"
   ]
  },
  {
   "cell_type": "markdown",
   "metadata": {},
   "source": [
    "### Observation\n",
    "\n",
    "The z-value is larger than the reuqired threshold of 2. The Null Hypothesis is rejected. Therefore, there is a statistical significance in trip duration by the gender. "
   ]
  }
 ],
 "metadata": {
  "kernelspec": {
   "display_name": "Python 2",
   "language": "python",
   "name": "python2"
  },
  "language_info": {
   "codemirror_mode": {
    "name": "ipython",
    "version": 2
   },
   "file_extension": ".py",
   "mimetype": "text/x-python",
   "name": "python",
   "nbconvert_exporter": "python",
   "pygments_lexer": "ipython2",
   "version": "2.7.13"
  }
 },
 "nbformat": 4,
 "nbformat_minor": 2
}
