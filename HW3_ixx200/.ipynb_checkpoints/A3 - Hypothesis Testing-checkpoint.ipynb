{
 "cells": [
  {
   "cell_type": "markdown",
   "metadata": {},
   "source": [
    "# Hypothesis Testing"
   ]
  },
  {
   "cell_type": "markdown",
   "metadata": {},
   "source": [
    "A new bus route for line X8 is implemented. MTA wants to know if it improves commute time (travel time at peak hours). They know what the mean travel time used to be, and measure the new travel time 100 times.\n",
    "\n",
    "Old route has a mean travel time of 36 minutes and standard deviation of 6 minutes."
   ]
  },
  {
   "cell_type": "code",
   "execution_count": 58,
   "metadata": {},
   "outputs": [
    {
     "name": "stdout",
     "output_type": "stream",
     "text": [
      "Populating the interactive namespace from numpy and matplotlib\n"
     ]
    }
   ],
   "source": [
    "import pandas as pd\n",
    "import matplotlib.pylab as plt\n",
    "\n",
    "%pylab inline"
   ]
  },
  {
   "cell_type": "markdown",
   "metadata": {},
   "source": [
    "## 1. Get and Explore Data"
   ]
  },
  {
   "cell_type": "code",
   "execution_count": 34,
   "metadata": {
    "collapsed": true
   },
   "outputs": [],
   "source": [
    "path = \"https://raw.githubusercontent.com/fedhere/PUI2017_fb55/master/Lab3_fb55/times.txt\"\n",
    "\n",
    "tNew = pd.read_csv(path, names = ['Time']).values"
   ]
  },
  {
   "cell_type": "code",
   "execution_count": 38,
   "metadata": {},
   "outputs": [
    {
     "data": {
      "text/plain": [
       "array([ 32.82137636,  30.2291014 ,  31.41376587,  39.01055035,\n",
       "        34.82207891,  39.87188366,  39.57994562,  31.02658678,\n",
       "        27.66246068,  18.8752884 ,  46.2313731 ,  30.01522604,\n",
       "        47.6004104 ,  16.52726666,  42.4462331 ,  33.62527449,\n",
       "        42.28462558,  46.20520667,  30.87517392,  32.94800341,\n",
       "        26.17691512,  31.25699649,  35.33644554,  35.64072501,\n",
       "        40.32297174,  38.04348588,  29.4579793 ,  23.91636367,\n",
       "        34.56403521,  45.42782464,  38.95607754,  39.11396748,\n",
       "        39.67398759,  31.89148105,  22.62379325,  26.18910408,\n",
       "        43.54114213,  33.2607386 ,  31.67602384,  37.12846259,\n",
       "        38.22048496,  34.38814185,  36.11407371,  44.08064814,\n",
       "        29.59917161,  37.02411751,  41.60576556,  44.37860528,\n",
       "        38.06471077,  22.90526456,  40.27182857,  31.57979239,\n",
       "        25.88037795,  28.8913048 ,  44.33687925,  36.78948684,\n",
       "        43.46098875,  40.65557   ,  26.16634004,  25.13884784,\n",
       "        33.01581456,  32.87050073,  26.28557154,  39.44933037,\n",
       "        36.25528612,  40.719133  ,  40.57181545,  19.87166413,\n",
       "        43.21925286,  31.48102823,  37.14915056,  38.991504  ,\n",
       "        20.53059384,  27.80447692,  38.69933298,  30.0223142 ,\n",
       "        38.64884169,  26.40668884,  32.10224978,  28.31532754,\n",
       "        43.26195884,  40.3609407 ,  37.3025258 ,  31.45110181,\n",
       "        38.79599524,  36.92553372,  32.37167945,  23.25835631,\n",
       "        26.42613261,  48.74987653,  31.42512354,  46.80679298,\n",
       "        30.59748648,  20.7926322 ,  26.19785226,  42.7274097 ,\n",
       "        33.7314695 ,  37.23859057,  36.33984141])"
      ]
     },
     "execution_count": 38,
     "metadata": {},
     "output_type": "execute_result"
    }
   ],
   "source": [
    "tNew[1:100].squeeze()"
   ]
  },
  {
   "cell_type": "code",
   "execution_count": 39,
   "metadata": {
    "scrolled": true
   },
   "outputs": [
    {
     "data": {
      "image/png": "[encoded data removed]",
      "text/plain": [
       "<matplotlib.figure.Figure at 0x1186528d0>"
      ]
     },
     "metadata": {},
     "output_type": "display_data"
    }
   ],
   "source": [
    "plt.hist(tNew);"
   ]
  },
  {
   "cell_type": "markdown",
   "metadata": {},
   "source": [
    "## 2. Hypothesis Testing"
   ]
  },
  {
   "cell_type": "markdown",
   "metadata": {},
   "source": [
    "##### Calculate Mean and Standard Deviation"
   ]
  },
  {
   "cell_type": "code",
   "execution_count": 40,
   "metadata": {},
   "outputs": [
    {
     "data": {
      "text/plain": [
       "34.466161688299998"
      ]
     },
     "execution_count": 40,
     "metadata": {},
     "output_type": "execute_result"
    }
   ],
   "source": [
    "tNew.mean()"
   ]
  },
  {
   "cell_type": "code",
   "execution_count": 42,
   "metadata": {
    "collapsed": true
   },
   "outputs": [],
   "source": [
    "tOldMean = 36.\n",
    "tOldStd = 6."
   ]
  },
  {
   "cell_type": "markdown",
   "metadata": {},
   "source": [
    "##### How many standard deviation away?"
   ]
  },
  {
   "cell_type": "code",
   "execution_count": 44,
   "metadata": {},
   "outputs": [
    {
     "data": {
      "text/plain": [
       "0.25563971861666701"
      ]
     },
     "execution_count": 44,
     "metadata": {},
     "output_type": "execute_result"
    }
   ],
   "source": [
    "(tOldMean - tNew.mean()) / tOldStd"
   ]
  },
  {
   "cell_type": "markdown",
   "metadata": {},
   "source": [
    "##### Perform a Z-Test"
   ]
  },
  {
   "cell_type": "markdown",
   "metadata": {},
   "source": [
    "$Z = \\frac{(u_a - u_s) \\sqrt N}{std_a}$\n",
    "where \n",
    "- $u_a$ is the mean of old travel time\n",
    "- $u_s$ is the mean of new travel time\n",
    "- $N$ is the total number of observation\n",
    "- $std_a$ is the standard deviation of old travel time"
   ]
  },
  {
   "cell_type": "code",
   "execution_count": 50,
   "metadata": {},
   "outputs": [
    {
     "name": "stdout",
     "output_type": "stream",
     "text": [
      "the Z-value is: 2.55639718617\n"
     ]
    }
   ],
   "source": [
    "z = (tOldMean - tNew.mean()) / (tOldStd/sqrt(100))\n",
    "print(\"the Z-value is: \" + str(z))"
   ]
  },
  {
   "cell_type": "markdown",
   "metadata": {},
   "source": [
    "The z-value threshold is normally 2 sigma away (5% p-value threshold) from the old mean. z=2.5 > 2, therefore, the null hypothesis is rejected. \n",
    "\n",
    "The new bus route improves travel time."
   ]
  }
 ],
 "metadata": {
  "kernelspec": {
   "display_name": "Python 2",
   "language": "python",
   "name": "python2"
  },
  "language_info": {
   "codemirror_mode": {
    "name": "ipython",
    "version": 2
   },
   "file_extension": ".py",
   "mimetype": "text/x-python",
   "name": "python",
   "nbconvert_exporter": "python",
   "pygments_lexer": "ipython2",
   "version": "2.7.13"
  }
 },
 "nbformat": 4,
 "nbformat_minor": 2
}
