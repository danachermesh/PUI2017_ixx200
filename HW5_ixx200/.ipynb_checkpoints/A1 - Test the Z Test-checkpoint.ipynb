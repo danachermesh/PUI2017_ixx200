{
 "cells": [
  {
   "cell_type": "markdown",
   "metadata": {},
   "source": [
    "# Procedure\n",
    "\n",
    "- Generate N samples from a distribution of your choice, but not a Gaussian with a chosen mean μ and standard deviation σ: N(μ, σ) and calculate the mean of each sample (all samples should have the same size n).\n",
    "\n",
    "- Assess the validity of the Z-test: If the samples are drawn from the distribution you are testing the z-values you calculate should follow a N(0,1) distribution (a Gaussian with mean 0 and standard deviation 1). Show that the distribution of z -statistics (find the formula in a statistics book or in last week’s slides) that you calculated (one for each sample) is indeed consistent with N(0,1).\n",
    "\n",
    "# Analysis\n",
    "- plot your original distribution\n",
    "- plot at least one of the samples\n",
    "- plot the distribution of z statistics\n",
    "- fit the z-statistics with a gaussian model and assess the goodness of fit with a simple test (AD or KS).\n",
    "- plots need have caption, axis labels, etx and comment your figures and test results appropriately (to demonstrate your understanding)."
   ]
  },
  {
   "cell_type": "code",
   "execution_count": 2,
   "metadata": {},
   "outputs": [
    {
     "name": "stdout",
     "output_type": "stream",
     "text": [
      "Populating the interactive namespace from numpy and matplotlib\n"
     ]
    }
   ],
   "source": [
    "import numpy as np\n",
    "import scipy as sp\n",
    "from scipy import stats\n",
    "import matplotlib.pyplot as pl\n",
    "\n",
    "%pylab inline"
   ]
  },
  {
   "cell_type": "code",
   "execution_count": 3,
   "metadata": {
    "collapsed": true
   },
   "outputs": [],
   "source": [
    "np.random.seed(100)\n",
    "mymean = 200.\n",
    "mystdev = 14.\n",
    "Nsamples = 100\n",
    "nit = 1000\n",
    "\n",
    "mydistrib = []\n",
    "myDmeans = np.zeros(nit)\n",
    "\n",
    "for i in range(nit):\n",
    "    mydistrib.append(sp.stats.gamma.rvs(a = 1.99, loc = mymean, scale = mystdev, size = Nsamples))\n",
    "    myDmeans[i] = mydistrib[i].mean()"
   ]
  },
  {
   "cell_type": "code",
   "execution_count": 4,
   "metadata": {},
   "outputs": [
    {
     "data": {
      "image/png": "[encoded data removed]",
      "text/plain": [
       "<matplotlib.figure.Figure at 0x110de0e10>"
      ]
     },
     "metadata": {},
     "output_type": "display_data"
    }
   ],
   "source": [
    "pl.hist(mydistrib[0]);\n",
    "pl.title(\"Histgram of Sample from Gamma Distribution\");\n",
    "pl.xlabel(\"Value\");\n",
    "pl.ylabel(\"Count\");"
   ]
  },
  {
   "cell_type": "markdown",
   "metadata": {},
   "source": [
    "### Caption\n",
    "This is a histogram of one of the gamma distribution. Each bar represent the number of sample in each bin."
   ]
  },
  {
   "cell_type": "code",
   "execution_count": 5,
   "metadata": {},
   "outputs": [
    {
     "data": {
      "image/png": "[encoded data removed]",
      "text/plain": [
       "<matplotlib.figure.Figure at 0x110f07f10>"
      ]
     },
     "metadata": {},
     "output_type": "display_data"
    }
   ],
   "source": [
    "pl.hist(myDmeans);\n",
    "pl.title(\"Histgram of Mean\");\n",
    "pl.xlabel(\"Mean\");\n",
    "pl.ylabel(\"Count\");"
   ]
  },
  {
   "cell_type": "markdown",
   "metadata": {},
   "source": [
    "#### Caption: \n",
    "\n",
    "This is a distribution of the mean of each gamma distribution (1000 in total). It looks like a normal distribution because of the randomization process (which has a underlying normal distribution) with a standard deviation.  "
   ]
  },
  {
   "cell_type": "code",
   "execution_count": 9,
   "metadata": {},
   "outputs": [
    {
     "data": {
      "image/png": "[encoded data removed]",
      "text/plain": [
       "<matplotlib.figure.Figure at 0x110f97910>"
      ]
     },
     "metadata": {},
     "output_type": "display_data"
    }
   ],
   "source": [
    "# Calcualte Z values\n",
    "\n",
    "zs = (myDmeans - mymean) * np.sqrt(Nsamples)/mystdev\n",
    "pl.hist(zs);\n",
    "pl.title(\"Histgram of Z-Value\");\n",
    "pl.xlabel(\"Z-Value\");\n",
    "pl.ylabel(\"Count\");"
   ]
  },
  {
   "cell_type": "markdown",
   "metadata": {},
   "source": [
    "#### Caption\n",
    "This is a distribution of z-value (comparing each mean of gamma distribution to the pre-described mean). "
   ]
  },
  {
   "cell_type": "code",
   "execution_count": 8,
   "metadata": {},
   "outputs": [
    {
     "data": {
      "text/plain": [
       "KstestResult(statistic=1.0, pvalue=0.0)"
      ]
     },
     "execution_count": 8,
     "metadata": {},
     "output_type": "execute_result"
    }
   ],
   "source": [
    "# Goodness of Fit against a Normal Distrubtion\n",
    "\n",
    "sp.stats.kstest(zs, \"norm\")"
   ]
  },
  {
   "cell_type": "markdown",
   "metadata": {},
   "source": [
    "#### Caption\n",
    "The KS test indicates the Z value distribution is different from a normal distribution (with 0 mean and stdev = 1) because p < 0. We can reject the NULL hypothesis that they are the same. This makes sense because z distribution above has a mean > 0 and stdev != 1."
   ]
  }
 ],
 "metadata": {
  "kernelspec": {
   "display_name": "Python 2",
   "language": "python",
   "name": "python2"
  },
  "language_info": {
   "codemirror_mode": {
    "name": "ipython",
    "version": 2
   },
   "file_extension": ".py",
   "mimetype": "text/x-python",
   "name": "python",
   "nbconvert_exporter": "python",
   "pygments_lexer": "ipython2",
   "version": "2.7.13"
  }
 },
 "nbformat": 4,
 "nbformat_minor": 2
}
